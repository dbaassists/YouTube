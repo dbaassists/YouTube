{
 "cells": [
  {
   "cell_type": "code",
   "execution_count": 0,
   "metadata": {
    "application/vnd.databricks.v1+cell": {
     "cellMetadata": {
      "byteLimit": 2048000,
      "rowLimit": 10000
     },
     "inputWidgets": {},
     "nuid": "67b1ba2a-7f8f-47e9-8930-96ba3b10c2b3",
     "showTitle": false,
     "title": ""
    }
   },
   "outputs": [],
   "source": [
    "import pandas as pd\n",
    "from pyspark.sql import SparkSession\n",
    "from pyspark.sql.functions import *\n",
    "from pyspark.sql.types import * #StructType, StructField, StringType\n",
    "\n",
    "spark = SparkSession.builder.appName(\"ingestao-pyspark-csv\").getOrCreate()"
   ]
  },
  {
   "cell_type": "code",
   "execution_count": 0,
   "metadata": {
    "application/vnd.databricks.v1+cell": {
     "cellMetadata": {
      "byteLimit": 2048000,
      "rowLimit": 10000
     },
     "inputWidgets": {},
     "nuid": "12e7a916-f4d8-4856-8408-e85e484a55d1",
     "showTitle": false,
     "title": ""
    }
   },
   "outputs": [],
   "source": [
    "%run /estudos/libs/bibliotecas "
   ]
  },
  {
   "cell_type": "code",
   "execution_count": 0,
   "metadata": {
    "application/vnd.databricks.v1+cell": {
     "cellMetadata": {
      "byteLimit": 2048000,
      "rowLimit": 10000
     },
     "inputWidgets": {},
     "nuid": "852b3a07-378e-41c0-87d7-8dacc18c0550",
     "showTitle": false,
     "title": ""
    }
   },
   "outputs": [],
   "source": [
    "arquivo = 'https://raw.githubusercontent.com/dbaassists/YouTube/main/ArquivoDados/Eleicao/votacao_secao_2022_RJ_parte_'\n",
    "extensao = 'csv'\n",
    "\n",
    "dfSpark = importa_arquivo_github(arquivo, extensao)"
   ]
  },
  {
   "cell_type": "code",
   "execution_count": 0,
   "metadata": {
    "application/vnd.databricks.v1+cell": {
     "cellMetadata": {
      "byteLimit": 2048000,
      "rowLimit": 10000
     },
     "inputWidgets": {},
     "nuid": "8bcfc8e5-bd98-4423-a75e-48a3bc268138",
     "showTitle": false,
     "title": ""
    }
   },
   "outputs": [],
   "source": [
    "display(dfSpark)"
   ]
  },
  {
   "cell_type": "code",
   "execution_count": 0,
   "metadata": {
    "application/vnd.databricks.v1+cell": {
     "cellMetadata": {
      "byteLimit": 2048000,
      "rowLimit": 10000
     },
     "inputWidgets": {},
     "nuid": "01ba1fab-d8a0-4bba-ba11-cf7177bce689",
     "showTitle": false,
     "title": ""
    }
   },
   "outputs": [],
   "source": [
    "dfSpark.count()"
   ]
  },
  {
   "cell_type": "code",
   "execution_count": 0,
   "metadata": {
    "application/vnd.databricks.v1+cell": {
     "cellMetadata": {
      "byteLimit": 2048000,
      "rowLimit": 10000
     },
     "inputWidgets": {},
     "nuid": "cafb56f1-d17e-4a11-8a37-3f3cff909ef4",
     "showTitle": false,
     "title": ""
    }
   },
   "outputs": [],
   "source": [
    "help(dfSpark.groupBy)"
   ]
  },
  {
   "cell_type": "code",
   "execution_count": 0,
   "metadata": {
    "application/vnd.databricks.v1+cell": {
     "cellMetadata": {
      "byteLimit": 2048000,
      "rowLimit": 10000
     },
     "inputWidgets": {},
     "nuid": "b79545eb-84b6-437f-95e6-4ad4bf2512d2",
     "showTitle": false,
     "title": ""
    }
   },
   "outputs": [],
   "source": [
    "\n",
    "#display(dfSpark.select(\"CD_CARGO\",\"DS_CARGO\").distinct())\n",
    "\n",
    "dfSparkVotacao = dfSpark.select(\"CD_CARGO\",\"DS_CARGO\",\"NM_MUNICIPIO\",\"NR_ZONA\",\"NR_SECAO\",\"DS_CARGO\",\"QT_VOTOS\")"
   ]
  },
  {
   "cell_type": "code",
   "execution_count": 0,
   "metadata": {
    "application/vnd.databricks.v1+cell": {
     "cellMetadata": {
      "byteLimit": 2048000,
      "rowLimit": 10000
     },
     "inputWidgets": {},
     "nuid": "ea71fddf-a55c-4db6-936a-30a444e76533",
     "showTitle": false,
     "title": ""
    }
   },
   "outputs": [],
   "source": [
    "dfSparkVotacao.show()"
   ]
  },
  {
   "cell_type": "code",
   "execution_count": 0,
   "metadata": {
    "application/vnd.databricks.v1+cell": {
     "cellMetadata": {
      "byteLimit": 2048000,
      "rowLimit": 10000
     },
     "inputWidgets": {},
     "nuid": "9f70c6ba-0f87-4248-ad78-f55a1b7e3eb5",
     "showTitle": false,
     "title": ""
    }
   },
   "outputs": [],
   "source": [
    "dfSparkVotacao.groupBy('NM_MUNICIPIO').count().show(truncate=False)"
   ]
  },
  {
   "cell_type": "code",
   "execution_count": 0,
   "metadata": {
    "application/vnd.databricks.v1+cell": {
     "cellMetadata": {
      "byteLimit": 2048000,
      "rowLimit": 10000
     },
     "inputWidgets": {},
     "nuid": "2a6b4b10-5178-48f0-8820-7aac3ba521cb",
     "showTitle": false,
     "title": ""
    }
   },
   "outputs": [],
   "source": [
    "dfSparkVotacao.groupby('NM_MUNICIPIO').agg(count(\"DS_CARGO\").alias('TotalRegistros')).show(truncate=False)"
   ]
  },
  {
   "cell_type": "code",
   "execution_count": 0,
   "metadata": {
    "application/vnd.databricks.v1+cell": {
     "cellMetadata": {
      "byteLimit": 2048000,
      "rowLimit": 10000
     },
     "inputWidgets": {},
     "nuid": "0778e585-b74a-44a7-b7df-74da6a439359",
     "showTitle": false,
     "title": ""
    }
   },
   "outputs": [],
   "source": [
    "dfSparkVotacao.groupBy('NM_MUNICIPIO').agg({\"DS_CARGO\":\"count\"}).show(truncate=False)"
   ]
  },
  {
   "cell_type": "code",
   "execution_count": 0,
   "metadata": {
    "application/vnd.databricks.v1+cell": {
     "cellMetadata": {
      "byteLimit": 2048000,
      "rowLimit": 10000
     },
     "inputWidgets": {},
     "nuid": "867c41d8-50ca-4e7e-9793-d2fa3534394b",
     "showTitle": false,
     "title": ""
    }
   },
   "outputs": [],
   "source": [
    "dfSparkVotacao.groupBy('NM_MUNICIPIO').agg(count(\"DS_CARGO\").alias('TotalRegistros')).show(truncate=False)"
   ]
  },
  {
   "cell_type": "code",
   "execution_count": 0,
   "metadata": {
    "application/vnd.databricks.v1+cell": {
     "cellMetadata": {
      "byteLimit": 2048000,
      "rowLimit": 10000
     },
     "inputWidgets": {},
     "nuid": "afe3fdc4-72d4-4297-96b8-c350cf980860",
     "showTitle": false,
     "title": ""
    }
   },
   "outputs": [],
   "source": [
    "dfSparkVotacao.groupBy('NM_MUNICIPIO').agg(count(\"DS_CARGO\").alias('TotalRegistros')).where(\"TotalRegistros > 80000\").show(truncate=False)"
   ]
  },
  {
   "cell_type": "code",
   "execution_count": 0,
   "metadata": {
    "application/vnd.databricks.v1+cell": {
     "cellMetadata": {
      "byteLimit": 2048000,
      "rowLimit": 10000
     },
     "inputWidgets": {},
     "nuid": "80e410a1-ac67-42ce-8351-2b01d2b77e2b",
     "showTitle": false,
     "title": ""
    }
   },
   "outputs": [],
   "source": [
    "dfSparkVotacao.groupBy('NM_MUNICIPIO').agg(count(\"DS_CARGO\").alias('TotalRegistros')).where(\"TotalRegistros > 80000\").orderBy(desc(\"TotalRegistros\")).show(truncate=False)"
   ]
  },
  {
   "cell_type": "code",
   "execution_count": 0,
   "metadata": {
    "application/vnd.databricks.v1+cell": {
     "cellMetadata": {
      "byteLimit": 2048000,
      "rowLimit": 10000
     },
     "inputWidgets": {},
     "nuid": "8a6ee8a3-1c80-432d-b657-e93b814ce0df",
     "showTitle": false,
     "title": ""
    }
   },
   "outputs": [],
   "source": [
    "dfSparkVotacao.groupBy('NM_MUNICIPIO','DS_CARGO').agg(count(\"DS_CARGO\").alias('TotalRegistros')).where(\"TotalRegistros > 80000\").show(truncate=False)"
   ]
  },
  {
   "cell_type": "code",
   "execution_count": 0,
   "metadata": {
    "application/vnd.databricks.v1+cell": {
     "cellMetadata": {
      "byteLimit": 2048000,
      "rowLimit": 10000
     },
     "inputWidgets": {},
     "nuid": "ada254b5-1d52-40a7-9a6e-8dbb1da3d39c",
     "showTitle": false,
     "title": ""
    }
   },
   "outputs": [],
   "source": [
    "dfSparkVotacao.groupBy('NM_MUNICIPIO','DS_CARGO').agg(count(\"DS_CARGO\").alias('TotalRegistros')).where(\"TotalRegistros > 80000\").orderBy(asc('NM_MUNICIPIO'), asc('DS_CARGO'),desc(\"TotalRegistros\")).show(truncate=False)"
   ]
  }
 ],
 "metadata": {
  "application/vnd.databricks.v1+notebook": {
   "dashboards": [],
   "language": "python",
   "notebookMetadata": {
    "pythonIndentUnit": 4
   },
   "notebookName": "groupBy",
   "widgets": {}
  }
 },
 "nbformat": 4,
 "nbformat_minor": 0
}
