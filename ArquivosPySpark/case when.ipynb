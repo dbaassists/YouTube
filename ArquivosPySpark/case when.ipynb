{
 "cells": [
  {
   "cell_type": "code",
   "execution_count": 0,
   "metadata": {
    "application/vnd.databricks.v1+cell": {
     "cellMetadata": {
      "byteLimit": 2048000,
      "rowLimit": 10000
     },
     "inputWidgets": {},
     "nuid": "ac87c476-9e7a-4b35-aad2-65b6b5946842",
     "showTitle": false,
     "title": ""
    }
   },
   "outputs": [],
   "source": [
    "from pyspark.sql.functions import *"
   ]
  },
  {
   "cell_type": "code",
   "execution_count": 0,
   "metadata": {
    "application/vnd.databricks.v1+cell": {
     "cellMetadata": {
      "byteLimit": 2048000,
      "rowLimit": 10000
     },
     "inputWidgets": {},
     "nuid": "e8340162-bbd0-4689-a1ff-4f894fe3673f",
     "showTitle": false,
     "title": ""
    }
   },
   "outputs": [
    {
     "output_type": "stream",
     "name": "stdout",
     "output_type": "stream",
     "text": [
      "Out[3]: 27"
     ]
    }
   ],
   "source": [
    "dados = [('Acre','AC','Rio Branco')\n",
    ",('Alagoas','AL','Maceió')\n",
    ",('Amapá','AP','Macapá')\n",
    ",('Amazonas','AM','Manaus')\n",
    ",('Bahia','BA','Salvador')\n",
    ",('Ceará','CE','Fortaleza')\n",
    ",('Distrito Federal','DF','Brasília')\n",
    ",('Espírito Santo','ES','Vitória')\n",
    ",('Goiás','GO','Goiânia')\n",
    ",('Maranhão','MA','São Luís')\n",
    ",('Mato Grosso','MT','Cuiabá')\n",
    ",('Mato Grosso do Sul','MS','Campo Grande')\n",
    ",('Minas Gerais','MG','Belo Horizonte')\n",
    ",('Pará','PA','Belém')\n",
    ",('Paraíba','PB','João Pessoa')\n",
    ",('Paraná','PR','Curitiba')\n",
    ",('Pernambuco','PE','Recife')\n",
    ",('Piauí','PI','Teresina')\n",
    ",('Rio de Janeiro','RJ','Rio de Janeiro')\n",
    ",('Rio Grande do Norte','RN','Natal')\n",
    ",('Rio Grande do Sul','RS','Porto Alegre')\n",
    ",('Rondônia','RO','Porto Velho')\n",
    ",('Roraima','RR','Boa Vista')\n",
    ",('Santa Catarina','SC','Florianópolis')\n",
    ",('São Paulo','SP','São Paulo')\n",
    ",('Sergipe','SE','Aracaju')\n",
    ",('Tocantins','TO','Palmas')]\n",
    "\n",
    "schema = ('Estado', 'UF', 'Capital')\n",
    "\n",
    "df = spark.createDataFrame(dados, schema =schema)\n",
    "\n",
    "df.show()"
   ]
  },
  {
   "cell_type": "markdown",
   "metadata": {
    "application/vnd.databricks.v1+cell": {
     "cellMetadata": {},
     "inputWidgets": {},
     "nuid": "bc7dd0f1-bb7b-49a2-a73f-31762d5a1c07",
     "showTitle": false,
     "title": ""
    }
   },
   "source": [
    "## Regra de Negócio:\n",
    "\n",
    "* Região Centro-Oeste. Distrito Federal Goiás Mato Grosso Mato Grosso do Sul.\n",
    "* Região Nordeste. Alagoas Bahia Ceará Maranhão Paraiba Pernambuco Piauí Rio Grande do Norte Sergipe.\n",
    "* Região Norte. Acre Amapá Amazonas Pará Rondônia Roraima Tocantis.\n",
    "* Região Sudeste. Espírito Santo Minas Gerais Rio de Janeiro São Paulo.\n",
    "* Região Sul. Paraná Santa Catarina Rio Grande do Sul."
   ]
  },
  {
   "cell_type": "code",
   "execution_count": 0,
   "metadata": {
    "application/vnd.databricks.v1+cell": {
     "cellMetadata": {
      "byteLimit": 2048000,
      "rowLimit": 10000
     },
     "inputWidgets": {},
     "nuid": "f5f2d674-afc7-43f4-b76c-c4eb1f7c9b4b",
     "showTitle": true,
     "title": "Modo 1 - Criação de De-Para (Criar coluna Região) usando WithColumn + When + OtherWise"
    }
   },
   "outputs": [
    {
     "output_type": "display_data",
     "data": {
      "text/html": [
       "<style scoped>\n",
       "  .table-result-container {\n",
       "    max-height: 300px;\n",
       "    overflow: auto;\n",
       "  }\n",
       "  table, th, td {\n",
       "    border: 1px solid black;\n",
       "    border-collapse: collapse;\n",
       "  }\n",
       "  th, td {\n",
       "    padding: 5px;\n",
       "  }\n",
       "  th {\n",
       "    text-align: left;\n",
       "  }\n",
       "</style><div class='table-result-container'><table class='table-result'><thead style='background-color: white'><tr><th>Estado</th><th>UF</th><th>Capital</th><th>Regiao</th></tr></thead><tbody><tr><td>Acre</td><td>AC</td><td>Rio Branco</td><td>Norte</td></tr><tr><td>Alagoas</td><td>AL</td><td>Maceió</td><td>Nordeste</td></tr><tr><td>Amapá</td><td>AP</td><td>Macapá</td><td>Norte</td></tr><tr><td>Amazonas</td><td>AM</td><td>Manaus</td><td>Norte</td></tr><tr><td>Bahia</td><td>BA</td><td>Salvador</td><td>Nordeste</td></tr><tr><td>Ceará</td><td>CE</td><td>Fortaleza</td><td>Nordeste</td></tr><tr><td>Distrito Federal</td><td>DF</td><td>Brasília</td><td>Centro-Oeste</td></tr><tr><td>Espírito Santo</td><td>ES</td><td>Vitória</td><td>Sudeste</td></tr><tr><td>Goiás</td><td>GO</td><td>Goiânia</td><td>Centro-Oeste</td></tr><tr><td>Maranhão</td><td>MA</td><td>São Luís</td><td>Nordeste</td></tr><tr><td>Mato Grosso</td><td>MT</td><td>Cuiabá</td><td>Centro-Oeste</td></tr><tr><td>Mato Grosso do Sul</td><td>MS</td><td>Campo Grande</td><td>Centro-Oeste</td></tr><tr><td>Minas Gerais</td><td>MG</td><td>Belo Horizonte</td><td>Sudeste</td></tr><tr><td>Pará</td><td>PA</td><td>Belém</td><td>Norte</td></tr><tr><td>Paraíba</td><td>PB</td><td>João Pessoa</td><td>Nordeste</td></tr><tr><td>Paraná</td><td>PR</td><td>Curitiba</td><td>null</td></tr><tr><td>Pernambuco</td><td>PE</td><td>Recife</td><td>Nordeste</td></tr><tr><td>Piauí</td><td>PI</td><td>Teresina</td><td>Nordeste</td></tr><tr><td>Rio de Janeiro</td><td>RJ</td><td>Rio de Janeiro</td><td>Sudeste</td></tr><tr><td>Rio Grande do Norte</td><td>RN</td><td>Natal</td><td>Nordeste</td></tr><tr><td>Rio Grande do Sul</td><td>RS</td><td>Porto Alegre</td><td>null</td></tr><tr><td>Rondônia</td><td>RO</td><td>Porto Velho</td><td>Norte</td></tr><tr><td>Roraima</td><td>RR</td><td>Boa Vista</td><td>Norte</td></tr><tr><td>Santa Catarina</td><td>SC</td><td>Florianópolis</td><td>null</td></tr><tr><td>São Paulo</td><td>SP</td><td>São Paulo</td><td>Sudeste</td></tr><tr><td>Sergipe</td><td>SE</td><td>Aracaju</td><td>Nordeste</td></tr><tr><td>Tocantins</td><td>TO</td><td>Palmas</td><td>Norte</td></tr></tbody></table></div>"
      ]
     },
     "metadata": {
      "application/vnd.databricks.v1+output": {
       "addedWidgets": {},
       "aggData": [],
       "aggError": "",
       "aggOverflow": false,
       "aggSchema": [],
       "aggSeriesLimitReached": false,
       "aggType": "",
       "arguments": {},
       "columnCustomDisplayInfos": {},
       "data": [
        [
         "Acre",
         "AC",
         "Rio Branco",
         "Norte"
        ],
        [
         "Alagoas",
         "AL",
         "Maceió",
         "Nordeste"
        ],
        [
         "Amapá",
         "AP",
         "Macapá",
         "Norte"
        ],
        [
         "Amazonas",
         "AM",
         "Manaus",
         "Norte"
        ],
        [
         "Bahia",
         "BA",
         "Salvador",
         "Nordeste"
        ],
        [
         "Ceará",
         "CE",
         "Fortaleza",
         "Nordeste"
        ],
        [
         "Distrito Federal",
         "DF",
         "Brasília",
         "Centro-Oeste"
        ],
        [
         "Espírito Santo",
         "ES",
         "Vitória",
         "Sudeste"
        ],
        [
         "Goiás",
         "GO",
         "Goiânia",
         "Centro-Oeste"
        ],
        [
         "Maranhão",
         "MA",
         "São Luís",
         "Nordeste"
        ],
        [
         "Mato Grosso",
         "MT",
         "Cuiabá",
         "Centro-Oeste"
        ],
        [
         "Mato Grosso do Sul",
         "MS",
         "Campo Grande",
         "Centro-Oeste"
        ],
        [
         "Minas Gerais",
         "MG",
         "Belo Horizonte",
         "Sudeste"
        ],
        [
         "Pará",
         "PA",
         "Belém",
         "Norte"
        ],
        [
         "Paraíba",
         "PB",
         "João Pessoa",
         "Nordeste"
        ],
        [
         "Paraná",
         "PR",
         "Curitiba",
         null
        ],
        [
         "Pernambuco",
         "PE",
         "Recife",
         "Nordeste"
        ],
        [
         "Piauí",
         "PI",
         "Teresina",
         "Nordeste"
        ],
        [
         "Rio de Janeiro",
         "RJ",
         "Rio de Janeiro",
         "Sudeste"
        ],
        [
         "Rio Grande do Norte",
         "RN",
         "Natal",
         "Nordeste"
        ],
        [
         "Rio Grande do Sul",
         "RS",
         "Porto Alegre",
         null
        ],
        [
         "Rondônia",
         "RO",
         "Porto Velho",
         "Norte"
        ],
        [
         "Roraima",
         "RR",
         "Boa Vista",
         "Norte"
        ],
        [
         "Santa Catarina",
         "SC",
         "Florianópolis",
         null
        ],
        [
         "São Paulo",
         "SP",
         "São Paulo",
         "Sudeste"
        ],
        [
         "Sergipe",
         "SE",
         "Aracaju",
         "Nordeste"
        ],
        [
         "Tocantins",
         "TO",
         "Palmas",
         "Norte"
        ]
       ],
       "datasetInfos": [],
       "dbfsResultPath": null,
       "isJsonSchema": true,
       "metadata": {},
       "overflow": false,
       "plotOptions": {
        "customPlotOptions": {},
        "displayType": "table",
        "pivotAggregation": null,
        "pivotColumns": null,
        "xColumns": null,
        "yColumns": null
       },
       "removedWidgets": [],
       "schema": [
        {
         "metadata": "{}",
         "name": "Estado",
         "type": "\"string\""
        },
        {
         "metadata": "{}",
         "name": "UF",
         "type": "\"string\""
        },
        {
         "metadata": "{}",
         "name": "Capital",
         "type": "\"string\""
        },
        {
         "metadata": "{}",
         "name": "Regiao",
         "type": "\"string\""
        }
       ],
       "type": "table"
      }
     },
     "output_type": "display_data"
    }
   ],
   "source": [
    "display(df.withColumn('Regiao' , when(df.UF.isin(['DF','GO','MT','MS']), 'Centro-Oeste')\n",
    "                         .when(df.UF.isin(['AL','BA','CE','MA','PB','PE','PI','RN','SE']), 'Nordeste')\n",
    "                         .when(df.UF.isin(['AC','AP','AM','PA','RO','RR','TO']), 'Norte')\n",
    "                         .when(df.UF.isin(['ES','MG','RJ','SP']), 'Sudeste')\n",
    "                            .otherwise('Sul') ))"
   ]
  },
  {
   "cell_type": "code",
   "execution_count": 0,
   "metadata": {
    "application/vnd.databricks.v1+cell": {
     "cellMetadata": {
      "byteLimit": 2048000,
      "rowLimit": 10000
     },
     "inputWidgets": {},
     "nuid": "e40a2bb8-e8be-45a2-8105-58d28e8b55f8",
     "showTitle": true,
     "title": "Modo 2 - Criação de De-Para (Criar coluna Região) usando Select + When + OtherWise + Alias"
    }
   },
   "outputs": [
    {
     "output_type": "display_data",
     "data": {
      "text/html": [
       "<style scoped>\n",
       "  .table-result-container {\n",
       "    max-height: 300px;\n",
       "    overflow: auto;\n",
       "  }\n",
       "  table, th, td {\n",
       "    border: 1px solid black;\n",
       "    border-collapse: collapse;\n",
       "  }\n",
       "  th, td {\n",
       "    padding: 5px;\n",
       "  }\n",
       "  th {\n",
       "    text-align: left;\n",
       "  }\n",
       "</style><div class='table-result-container'><table class='table-result'><thead style='background-color: white'><tr><th>Estado</th><th>UF</th><th>Capital</th><th>Regiao</th></tr></thead><tbody><tr><td>Acre</td><td>AC</td><td>Rio Branco</td><td>Norte</td></tr><tr><td>Alagoas</td><td>AL</td><td>Maceió</td><td>Nordeste</td></tr><tr><td>Amapá</td><td>AP</td><td>Macapá</td><td>Norte</td></tr><tr><td>Amazonas</td><td>AM</td><td>Manaus</td><td>Norte</td></tr><tr><td>Bahia</td><td>BA</td><td>Salvador</td><td>Nordeste</td></tr><tr><td>Ceará</td><td>CE</td><td>Fortaleza</td><td>Nordeste</td></tr><tr><td>Distrito Federal</td><td>DF</td><td>Brasília</td><td>Centro-Oeste</td></tr><tr><td>Espírito Santo</td><td>ES</td><td>Vitória</td><td>Sudeste</td></tr><tr><td>Goiás</td><td>GO</td><td>Goiânia</td><td>Centro-Oeste</td></tr><tr><td>Maranhão</td><td>MA</td><td>São Luís</td><td>Nordeste</td></tr><tr><td>Mato Grosso</td><td>MT</td><td>Cuiabá</td><td>Centro-Oeste</td></tr><tr><td>Mato Grosso do Sul</td><td>MS</td><td>Campo Grande</td><td>Centro-Oeste</td></tr><tr><td>Minas Gerais</td><td>MG</td><td>Belo Horizonte</td><td>Sudeste</td></tr><tr><td>Pará</td><td>PA</td><td>Belém</td><td>Norte</td></tr><tr><td>Paraíba</td><td>PB</td><td>João Pessoa</td><td>Nordeste</td></tr><tr><td>Paraná</td><td>PR</td><td>Curitiba</td><td>Sul</td></tr><tr><td>Pernambuco</td><td>PE</td><td>Recife</td><td>Nordeste</td></tr><tr><td>Piauí</td><td>PI</td><td>Teresina</td><td>Nordeste</td></tr><tr><td>Rio de Janeiro</td><td>RJ</td><td>Rio de Janeiro</td><td>Sudeste</td></tr><tr><td>Rio Grande do Norte</td><td>RN</td><td>Natal</td><td>Nordeste</td></tr><tr><td>Rio Grande do Sul</td><td>RS</td><td>Porto Alegre</td><td>Sul</td></tr><tr><td>Rondônia</td><td>RO</td><td>Porto Velho</td><td>Norte</td></tr><tr><td>Roraima</td><td>RR</td><td>Boa Vista</td><td>Norte</td></tr><tr><td>Santa Catarina</td><td>SC</td><td>Florianópolis</td><td>Sul</td></tr><tr><td>São Paulo</td><td>SP</td><td>São Paulo</td><td>Sudeste</td></tr><tr><td>Sergipe</td><td>SE</td><td>Aracaju</td><td>Nordeste</td></tr><tr><td>Tocantins</td><td>TO</td><td>Palmas</td><td>Norte</td></tr></tbody></table></div>"
      ]
     },
     "metadata": {
      "application/vnd.databricks.v1+output": {
       "addedWidgets": {},
       "aggData": [],
       "aggError": "",
       "aggOverflow": false,
       "aggSchema": [],
       "aggSeriesLimitReached": false,
       "aggType": "",
       "arguments": {},
       "columnCustomDisplayInfos": {},
       "data": [
        [
         "Acre",
         "AC",
         "Rio Branco",
         "Norte"
        ],
        [
         "Alagoas",
         "AL",
         "Maceió",
         "Nordeste"
        ],
        [
         "Amapá",
         "AP",
         "Macapá",
         "Norte"
        ],
        [
         "Amazonas",
         "AM",
         "Manaus",
         "Norte"
        ],
        [
         "Bahia",
         "BA",
         "Salvador",
         "Nordeste"
        ],
        [
         "Ceará",
         "CE",
         "Fortaleza",
         "Nordeste"
        ],
        [
         "Distrito Federal",
         "DF",
         "Brasília",
         "Centro-Oeste"
        ],
        [
         "Espírito Santo",
         "ES",
         "Vitória",
         "Sudeste"
        ],
        [
         "Goiás",
         "GO",
         "Goiânia",
         "Centro-Oeste"
        ],
        [
         "Maranhão",
         "MA",
         "São Luís",
         "Nordeste"
        ],
        [
         "Mato Grosso",
         "MT",
         "Cuiabá",
         "Centro-Oeste"
        ],
        [
         "Mato Grosso do Sul",
         "MS",
         "Campo Grande",
         "Centro-Oeste"
        ],
        [
         "Minas Gerais",
         "MG",
         "Belo Horizonte",
         "Sudeste"
        ],
        [
         "Pará",
         "PA",
         "Belém",
         "Norte"
        ],
        [
         "Paraíba",
         "PB",
         "João Pessoa",
         "Nordeste"
        ],
        [
         "Paraná",
         "PR",
         "Curitiba",
         "Sul"
        ],
        [
         "Pernambuco",
         "PE",
         "Recife",
         "Nordeste"
        ],
        [
         "Piauí",
         "PI",
         "Teresina",
         "Nordeste"
        ],
        [
         "Rio de Janeiro",
         "RJ",
         "Rio de Janeiro",
         "Sudeste"
        ],
        [
         "Rio Grande do Norte",
         "RN",
         "Natal",
         "Nordeste"
        ],
        [
         "Rio Grande do Sul",
         "RS",
         "Porto Alegre",
         "Sul"
        ],
        [
         "Rondônia",
         "RO",
         "Porto Velho",
         "Norte"
        ],
        [
         "Roraima",
         "RR",
         "Boa Vista",
         "Norte"
        ],
        [
         "Santa Catarina",
         "SC",
         "Florianópolis",
         "Sul"
        ],
        [
         "São Paulo",
         "SP",
         "São Paulo",
         "Sudeste"
        ],
        [
         "Sergipe",
         "SE",
         "Aracaju",
         "Nordeste"
        ],
        [
         "Tocantins",
         "TO",
         "Palmas",
         "Norte"
        ]
       ],
       "datasetInfos": [],
       "dbfsResultPath": null,
       "isJsonSchema": true,
       "metadata": {},
       "overflow": false,
       "plotOptions": {
        "customPlotOptions": {},
        "displayType": "table",
        "pivotAggregation": null,
        "pivotColumns": null,
        "xColumns": null,
        "yColumns": null
       },
       "removedWidgets": [],
       "schema": [
        {
         "metadata": "{}",
         "name": "Estado",
         "type": "\"string\""
        },
        {
         "metadata": "{}",
         "name": "UF",
         "type": "\"string\""
        },
        {
         "metadata": "{}",
         "name": "Capital",
         "type": "\"string\""
        },
        {
         "metadata": "{}",
         "name": "Regiao",
         "type": "\"string\""
        }
       ],
       "type": "table"
      }
     },
     "output_type": "display_data"
    }
   ],
   "source": [
    "display(df.select('*' , when(df.UF.isin(['DF','GO','MT','MS']), 'Centro-Oeste')\n",
    "                         .when(df.UF.isin(['AL','BA','CE','MA','PB','PE','PI','RN','SE']), 'Nordeste')\n",
    "                         .when(df.UF.isin(['AC','AP','AM','PA','RO','RR','TO']), 'Norte')\n",
    "                         .when(df.UF.isin(['ES','MG','RJ','SP']), 'Sudeste')\n",
    "                            .otherwise('Sul').alias('Regiao') ))"
   ]
  },
  {
   "cell_type": "code",
   "execution_count": 0,
   "metadata": {
    "application/vnd.databricks.v1+cell": {
     "cellMetadata": {
      "byteLimit": 2048000,
      "rowLimit": 10000
     },
     "inputWidgets": {},
     "nuid": "0b30794a-ae4b-43c6-9f13-1dcf31c52e1b",
     "showTitle": true,
     "title": "Modo 3 - Criação de De-Para (Criar coluna Região) usando WithColumn+ Expr"
    }
   },
   "outputs": [
    {
     "output_type": "display_data",
     "data": {
      "text/html": [
       "<style scoped>\n",
       "  .table-result-container {\n",
       "    max-height: 300px;\n",
       "    overflow: auto;\n",
       "  }\n",
       "  table, th, td {\n",
       "    border: 1px solid black;\n",
       "    border-collapse: collapse;\n",
       "  }\n",
       "  th, td {\n",
       "    padding: 5px;\n",
       "  }\n",
       "  th {\n",
       "    text-align: left;\n",
       "  }\n",
       "</style><div class='table-result-container'><table class='table-result'><thead style='background-color: white'><tr><th>Estado</th><th>UF</th><th>Capital</th><th>Regiao</th></tr></thead><tbody><tr><td>Acre</td><td>AC</td><td>Rio Branco</td><td>Norte</td></tr><tr><td>Alagoas</td><td>AL</td><td>Maceió</td><td>Nordeste</td></tr><tr><td>Amapá</td><td>AP</td><td>Macapá</td><td>Norte</td></tr><tr><td>Amazonas</td><td>AM</td><td>Manaus</td><td>Norte</td></tr><tr><td>Bahia</td><td>BA</td><td>Salvador</td><td>Nordeste</td></tr><tr><td>Ceará</td><td>CE</td><td>Fortaleza</td><td>Nordeste</td></tr><tr><td>Distrito Federal</td><td>DF</td><td>Brasília</td><td>Centro-Oeste</td></tr><tr><td>Espírito Santo</td><td>ES</td><td>Vitória</td><td>Sudeste</td></tr><tr><td>Goiás</td><td>GO</td><td>Goiânia</td><td>Centro-Oeste</td></tr><tr><td>Maranhão</td><td>MA</td><td>São Luís</td><td>Nordeste</td></tr><tr><td>Mato Grosso</td><td>MT</td><td>Cuiabá</td><td>Centro-Oeste</td></tr><tr><td>Mato Grosso do Sul</td><td>MS</td><td>Campo Grande</td><td>Centro-Oeste</td></tr><tr><td>Minas Gerais</td><td>MG</td><td>Belo Horizonte</td><td>Sudeste</td></tr><tr><td>Pará</td><td>PA</td><td>Belém</td><td>Norte</td></tr><tr><td>Paraíba</td><td>PB</td><td>João Pessoa</td><td>Nordeste</td></tr><tr><td>Paraná</td><td>PR</td><td>Curitiba</td><td>Sul</td></tr><tr><td>Pernambuco</td><td>PE</td><td>Recife</td><td>Nordeste</td></tr><tr><td>Piauí</td><td>PI</td><td>Teresina</td><td>Nordeste</td></tr><tr><td>Rio de Janeiro</td><td>RJ</td><td>Rio de Janeiro</td><td>Sudeste</td></tr><tr><td>Rio Grande do Norte</td><td>RN</td><td>Natal</td><td>Nordeste</td></tr><tr><td>Rio Grande do Sul</td><td>RS</td><td>Porto Alegre</td><td>Sul</td></tr><tr><td>Rondônia</td><td>RO</td><td>Porto Velho</td><td>Norte</td></tr><tr><td>Roraima</td><td>RR</td><td>Boa Vista</td><td>Norte</td></tr><tr><td>Santa Catarina</td><td>SC</td><td>Florianópolis</td><td>Sul</td></tr><tr><td>São Paulo</td><td>SP</td><td>São Paulo</td><td>Sudeste</td></tr><tr><td>Sergipe</td><td>SE</td><td>Aracaju</td><td>Nordeste</td></tr><tr><td>Tocantins</td><td>TO</td><td>Palmas</td><td>Norte</td></tr></tbody></table></div>"
      ]
     },
     "metadata": {
      "application/vnd.databricks.v1+output": {
       "addedWidgets": {},
       "aggData": [],
       "aggError": "",
       "aggOverflow": false,
       "aggSchema": [],
       "aggSeriesLimitReached": false,
       "aggType": "",
       "arguments": {},
       "columnCustomDisplayInfos": {},
       "data": [
        [
         "Acre",
         "AC",
         "Rio Branco",
         "Norte"
        ],
        [
         "Alagoas",
         "AL",
         "Maceió",
         "Nordeste"
        ],
        [
         "Amapá",
         "AP",
         "Macapá",
         "Norte"
        ],
        [
         "Amazonas",
         "AM",
         "Manaus",
         "Norte"
        ],
        [
         "Bahia",
         "BA",
         "Salvador",
         "Nordeste"
        ],
        [
         "Ceará",
         "CE",
         "Fortaleza",
         "Nordeste"
        ],
        [
         "Distrito Federal",
         "DF",
         "Brasília",
         "Centro-Oeste"
        ],
        [
         "Espírito Santo",
         "ES",
         "Vitória",
         "Sudeste"
        ],
        [
         "Goiás",
         "GO",
         "Goiânia",
         "Centro-Oeste"
        ],
        [
         "Maranhão",
         "MA",
         "São Luís",
         "Nordeste"
        ],
        [
         "Mato Grosso",
         "MT",
         "Cuiabá",
         "Centro-Oeste"
        ],
        [
         "Mato Grosso do Sul",
         "MS",
         "Campo Grande",
         "Centro-Oeste"
        ],
        [
         "Minas Gerais",
         "MG",
         "Belo Horizonte",
         "Sudeste"
        ],
        [
         "Pará",
         "PA",
         "Belém",
         "Norte"
        ],
        [
         "Paraíba",
         "PB",
         "João Pessoa",
         "Nordeste"
        ],
        [
         "Paraná",
         "PR",
         "Curitiba",
         "Sul"
        ],
        [
         "Pernambuco",
         "PE",
         "Recife",
         "Nordeste"
        ],
        [
         "Piauí",
         "PI",
         "Teresina",
         "Nordeste"
        ],
        [
         "Rio de Janeiro",
         "RJ",
         "Rio de Janeiro",
         "Sudeste"
        ],
        [
         "Rio Grande do Norte",
         "RN",
         "Natal",
         "Nordeste"
        ],
        [
         "Rio Grande do Sul",
         "RS",
         "Porto Alegre",
         "Sul"
        ],
        [
         "Rondônia",
         "RO",
         "Porto Velho",
         "Norte"
        ],
        [
         "Roraima",
         "RR",
         "Boa Vista",
         "Norte"
        ],
        [
         "Santa Catarina",
         "SC",
         "Florianópolis",
         "Sul"
        ],
        [
         "São Paulo",
         "SP",
         "São Paulo",
         "Sudeste"
        ],
        [
         "Sergipe",
         "SE",
         "Aracaju",
         "Nordeste"
        ],
        [
         "Tocantins",
         "TO",
         "Palmas",
         "Norte"
        ]
       ],
       "datasetInfos": [],
       "dbfsResultPath": null,
       "isJsonSchema": true,
       "metadata": {},
       "overflow": false,
       "plotOptions": {
        "customPlotOptions": {},
        "displayType": "table",
        "pivotAggregation": null,
        "pivotColumns": null,
        "xColumns": null,
        "yColumns": null
       },
       "removedWidgets": [],
       "schema": [
        {
         "metadata": "{}",
         "name": "Estado",
         "type": "\"string\""
        },
        {
         "metadata": "{}",
         "name": "UF",
         "type": "\"string\""
        },
        {
         "metadata": "{}",
         "name": "Capital",
         "type": "\"string\""
        },
        {
         "metadata": "{}",
         "name": "Regiao",
         "type": "\"string\""
        }
       ],
       "type": "table"
      }
     },
     "output_type": "display_data"
    }
   ],
   "source": [
    "display(df.withColumn('Regiao' , expr(\"CASE WHEN UF in ('DF','GO','MT','MS') THEN 'Centro-Oeste'\" +\n",
    "                        \"WHEN UF in ('AL','BA','CE','MA','PB','PE','PI','RN','SE') THEN 'Nordeste'\" +\n",
    "                        \"WHEN UF in ('AC','AP','AM','PA','RO','RR','TO') THEN 'Norte'\" +\n",
    "                        \"WHEN UF in ('ES','MG','RJ','SP') THEN 'Sudeste' \" +\n",
    "                        \"ELSE 'Sul' END\")\n",
    "                      ))"
   ]
  },
  {
   "cell_type": "code",
   "execution_count": 0,
   "metadata": {
    "application/vnd.databricks.v1+cell": {
     "cellMetadata": {
      "byteLimit": 2048000,
      "rowLimit": 10000
     },
     "inputWidgets": {},
     "nuid": "8d20390e-7dd7-48e1-a15e-9a85a62a577c",
     "showTitle": true,
     "title": "Modo 4 - Criação de De-Para (Criar coluna Região) usando SQL"
    }
   },
   "outputs": [
    {
     "output_type": "stream",
     "name": "stdout",
     "output_type": "stream",
     "text": [
      "+-------------------+---+------------+------------+\n|Estado             |UF |Capital     |Regiao      |\n+-------------------+---+------------+------------+\n|Mato Grosso        |MT |Cuiabá      |Centro-Oeste|\n|Distrito Federal   |DF |Brasília    |Centro-Oeste|\n|Mato Grosso do Sul |MS |Campo Grande|Centro-Oeste|\n|Goiás              |GO |Goiânia     |Centro-Oeste|\n|Bahia              |BA |Salvador    |Nordeste    |\n|Pernambuco         |PE |Recife      |Nordeste    |\n|Ceará              |CE |Fortaleza   |Nordeste    |\n|Sergipe            |SE |Aracaju     |Nordeste    |\n|Piauí              |PI |Teresina    |Nordeste    |\n|Maranhão           |MA |São Luís    |Nordeste    |\n|Alagoas            |AL |Maceió      |Nordeste    |\n|Paraíba            |PB |João Pessoa |Nordeste    |\n|Rio Grande do Norte|RN |Natal       |Nordeste    |\n|Amazonas           |AM |Manaus      |Norte       |\n|Acre               |AC |Rio Branco  |Norte       |\n|Pará               |PA |Belém       |Norte       |\n|Amapá              |AP |Macapá      |Norte       |\n|Rondônia           |RO |Porto Velho |Norte       |\n|Roraima            |RR |Boa Vista   |Norte       |\n|Tocantins          |TO |Palmas      |Norte       |\n+-------------------+---+------------+------------+\nonly showing top 20 rows\n\n"
     ]
    }
   ],
   "source": [
    "\n",
    "\n",
    "df.createOrReplaceTempView('estados')\n",
    "\n",
    "spark.sql(\"\"\"         \n",
    "         SELECT \n",
    "         *\n",
    "         ,CASE WHEN UF in ('DF','GO','MT','MS') THEN 'Centro-Oeste'\n",
    "                        WHEN UF in ('AL','BA','CE','MA','PB','PE','PI','RN','SE') THEN 'Nordeste'\n",
    "                        WHEN UF in ('AC','AP','AM','PA','RO','RR','TO') THEN 'Norte'\n",
    "                        WHEN UF in ('ES','MG','RJ','SP') THEN 'Sudeste'\n",
    "                        ELSE 'Sul' END Regiao\n",
    "         FROM estados  \n",
    "         ORDER BY 4\n",
    "         \n",
    "         \"\"\").show(truncate=False)\n",
    "\n"
   ]
  },
  {
   "cell_type": "code",
   "execution_count": 0,
   "metadata": {
    "application/vnd.databricks.v1+cell": {
     "cellMetadata": {
      "byteLimit": 2048000,
      "rowLimit": 10000
     },
     "inputWidgets": {},
     "nuid": "2907b9e6-b020-404b-a11e-c40c1e072816",
     "showTitle": false,
     "title": ""
    }
   },
   "outputs": [
    {
     "output_type": "stream",
     "name": "stdout",
     "output_type": "stream",
     "text": [
      "+-------------------+---+------------+------------+\n|Estado             |UF |Capital     |Regiao      |\n+-------------------+---+------------+------------+\n|Mato Grosso        |MT |Cuiabá      |Centro-Oeste|\n|Distrito Federal   |DF |Brasília    |Centro-Oeste|\n|Mato Grosso do Sul |MS |Campo Grande|Centro-Oeste|\n|Goiás              |GO |Goiânia     |Centro-Oeste|\n|Sergipe            |SE |Aracaju     |Nordeste    |\n|Rio Grande do Norte|RN |Natal       |Nordeste    |\n|Pernambuco         |PE |Recife      |Nordeste    |\n|Alagoas            |AL |Maceió      |Nordeste    |\n|Piauí              |PI |Teresina    |Nordeste    |\n|Bahia              |BA |Salvador    |Nordeste    |\n|Paraíba            |PB |João Pessoa |Nordeste    |\n|Ceará              |CE |Fortaleza   |Nordeste    |\n|Maranhão           |MA |São Luís    |Nordeste    |\n|Rondônia           |RO |Porto Velho |Norte       |\n|Acre               |AC |Rio Branco  |Norte       |\n|Roraima            |RR |Boa Vista   |Norte       |\n|Amazonas           |AM |Manaus      |Norte       |\n|Tocantins          |TO |Palmas      |Norte       |\n|Amapá              |AP |Macapá      |Norte       |\n|Pará               |PA |Belém       |Norte       |\n+-------------------+---+------------+------------+\nonly showing top 20 rows\n\n"
     ]
    }
   ],
   "source": [
    "\n",
    "spark.sql(\"\"\"         \n",
    "         SELECT \n",
    "         *\n",
    "         ,CASE WHEN UF in ('DF','GO','MT','MS') THEN 'Centro-Oeste'\n",
    "                        WHEN UF in ('AL','BA','CE','MA','PB','PE','PI','RN','SE') THEN 'Nordeste'\n",
    "                        WHEN UF in ('AC','AP','AM','PA','RO','RR','TO') THEN 'Norte'\n",
    "                        WHEN UF in ('ES','MG','RJ','SP') THEN 'Sudeste'\n",
    "                        ELSE 'Sul' END Regiao\n",
    "         FROM {df}  \n",
    "         ORDER BY 4\n",
    "         \n",
    "         \"\"\", df=df).show(truncate=False)\n",
    "\n"
   ]
  },
  {
   "cell_type": "code",
   "execution_count": 0,
   "metadata": {
    "application/vnd.databricks.v1+cell": {
     "cellMetadata": {
      "byteLimit": 2048000,
      "implicitDf": true,
      "rowLimit": 10000
     },
     "inputWidgets": {},
     "nuid": "978fc09a-4788-4cec-a8e8-906e45b1ae4f",
     "showTitle": false,
     "title": ""
    }
   },
   "outputs": [
    {
     "output_type": "display_data",
     "data": {
      "text/html": [
       "<style scoped>\n",
       "  .table-result-container {\n",
       "    max-height: 300px;\n",
       "    overflow: auto;\n",
       "  }\n",
       "  table, th, td {\n",
       "    border: 1px solid black;\n",
       "    border-collapse: collapse;\n",
       "  }\n",
       "  th, td {\n",
       "    padding: 5px;\n",
       "  }\n",
       "  th {\n",
       "    text-align: left;\n",
       "  }\n",
       "</style><div class='table-result-container'><table class='table-result'><thead style='background-color: white'><tr><th>Estado</th><th>UF</th><th>Capital</th><th>Regiao</th></tr></thead><tbody><tr><td>Distrito Federal</td><td>DF</td><td>Brasília</td><td>Centro-Oeste</td></tr><tr><td>Mato Grosso</td><td>MT</td><td>Cuiabá</td><td>Centro-Oeste</td></tr><tr><td>Goiás</td><td>GO</td><td>Goiânia</td><td>Centro-Oeste</td></tr><tr><td>Mato Grosso do Sul</td><td>MS</td><td>Campo Grande</td><td>Centro-Oeste</td></tr><tr><td>Rio Grande do Norte</td><td>RN</td><td>Natal</td><td>Nordeste</td></tr><tr><td>Pernambuco</td><td>PE</td><td>Recife</td><td>Nordeste</td></tr><tr><td>Alagoas</td><td>AL</td><td>Maceió</td><td>Nordeste</td></tr><tr><td>Piauí</td><td>PI</td><td>Teresina</td><td>Nordeste</td></tr><tr><td>Sergipe</td><td>SE</td><td>Aracaju</td><td>Nordeste</td></tr><tr><td>Maranhão</td><td>MA</td><td>São Luís</td><td>Nordeste</td></tr><tr><td>Paraíba</td><td>PB</td><td>João Pessoa</td><td>Nordeste</td></tr><tr><td>Bahia</td><td>BA</td><td>Salvador</td><td>Nordeste</td></tr><tr><td>Ceará</td><td>CE</td><td>Fortaleza</td><td>Nordeste</td></tr><tr><td>Acre</td><td>AC</td><td>Rio Branco</td><td>Norte</td></tr><tr><td>Rondônia</td><td>RO</td><td>Porto Velho</td><td>Norte</td></tr><tr><td>Amapá</td><td>AP</td><td>Macapá</td><td>Norte</td></tr><tr><td>Pará</td><td>PA</td><td>Belém</td><td>Norte</td></tr><tr><td>Roraima</td><td>RR</td><td>Boa Vista</td><td>Norte</td></tr><tr><td>Amazonas</td><td>AM</td><td>Manaus</td><td>Norte</td></tr><tr><td>Tocantins</td><td>TO</td><td>Palmas</td><td>Norte</td></tr><tr><td>Rio de Janeiro</td><td>RJ</td><td>Rio de Janeiro</td><td>Sudeste</td></tr><tr><td>Espírito Santo</td><td>ES</td><td>Vitória</td><td>Sudeste</td></tr><tr><td>São Paulo</td><td>SP</td><td>São Paulo</td><td>Sudeste</td></tr><tr><td>Minas Gerais</td><td>MG</td><td>Belo Horizonte</td><td>Sudeste</td></tr><tr><td>Rio Grande do Sul</td><td>RS</td><td>Porto Alegre</td><td>Sul</td></tr><tr><td>Paraná</td><td>PR</td><td>Curitiba</td><td>Sul</td></tr><tr><td>Santa Catarina</td><td>SC</td><td>Florianópolis</td><td>Sul</td></tr></tbody></table></div>"
      ]
     },
     "metadata": {
      "application/vnd.databricks.v1+output": {
       "addedWidgets": {},
       "aggData": [],
       "aggError": "",
       "aggOverflow": false,
       "aggSchema": [],
       "aggSeriesLimitReached": false,
       "aggType": "",
       "arguments": {},
       "columnCustomDisplayInfos": {},
       "data": [
        [
         "Distrito Federal",
         "DF",
         "Brasília",
         "Centro-Oeste"
        ],
        [
         "Mato Grosso",
         "MT",
         "Cuiabá",
         "Centro-Oeste"
        ],
        [
         "Goiás",
         "GO",
         "Goiânia",
         "Centro-Oeste"
        ],
        [
         "Mato Grosso do Sul",
         "MS",
         "Campo Grande",
         "Centro-Oeste"
        ],
        [
         "Rio Grande do Norte",
         "RN",
         "Natal",
         "Nordeste"
        ],
        [
         "Pernambuco",
         "PE",
         "Recife",
         "Nordeste"
        ],
        [
         "Alagoas",
         "AL",
         "Maceió",
         "Nordeste"
        ],
        [
         "Piauí",
         "PI",
         "Teresina",
         "Nordeste"
        ],
        [
         "Sergipe",
         "SE",
         "Aracaju",
         "Nordeste"
        ],
        [
         "Maranhão",
         "MA",
         "São Luís",
         "Nordeste"
        ],
        [
         "Paraíba",
         "PB",
         "João Pessoa",
         "Nordeste"
        ],
        [
         "Bahia",
         "BA",
         "Salvador",
         "Nordeste"
        ],
        [
         "Ceará",
         "CE",
         "Fortaleza",
         "Nordeste"
        ],
        [
         "Acre",
         "AC",
         "Rio Branco",
         "Norte"
        ],
        [
         "Rondônia",
         "RO",
         "Porto Velho",
         "Norte"
        ],
        [
         "Amapá",
         "AP",
         "Macapá",
         "Norte"
        ],
        [
         "Pará",
         "PA",
         "Belém",
         "Norte"
        ],
        [
         "Roraima",
         "RR",
         "Boa Vista",
         "Norte"
        ],
        [
         "Amazonas",
         "AM",
         "Manaus",
         "Norte"
        ],
        [
         "Tocantins",
         "TO",
         "Palmas",
         "Norte"
        ],
        [
         "Rio de Janeiro",
         "RJ",
         "Rio de Janeiro",
         "Sudeste"
        ],
        [
         "Espírito Santo",
         "ES",
         "Vitória",
         "Sudeste"
        ],
        [
         "São Paulo",
         "SP",
         "São Paulo",
         "Sudeste"
        ],
        [
         "Minas Gerais",
         "MG",
         "Belo Horizonte",
         "Sudeste"
        ],
        [
         "Rio Grande do Sul",
         "RS",
         "Porto Alegre",
         "Sul"
        ],
        [
         "Paraná",
         "PR",
         "Curitiba",
         "Sul"
        ],
        [
         "Santa Catarina",
         "SC",
         "Florianópolis",
         "Sul"
        ]
       ],
       "datasetInfos": [],
       "dbfsResultPath": null,
       "isJsonSchema": true,
       "metadata": {},
       "overflow": false,
       "plotOptions": {
        "customPlotOptions": {},
        "displayType": "table",
        "pivotAggregation": null,
        "pivotColumns": null,
        "xColumns": null,
        "yColumns": null
       },
       "removedWidgets": [],
       "schema": [
        {
         "metadata": "{}",
         "name": "Estado",
         "type": "\"string\""
        },
        {
         "metadata": "{}",
         "name": "UF",
         "type": "\"string\""
        },
        {
         "metadata": "{}",
         "name": "Capital",
         "type": "\"string\""
        },
        {
         "metadata": "{}",
         "name": "Regiao",
         "type": "\"string\""
        }
       ],
       "type": "table"
      }
     },
     "output_type": "display_data"
    }
   ],
   "source": [
    "%sql \n",
    "\n",
    "SELECT \n",
    "         *\n",
    "         ,CASE WHEN UF in ('DF','GO','MT','MS') THEN 'Centro-Oeste'\n",
    "                        WHEN UF in ('AL','BA','CE','MA','PB','PE','PI','RN','SE') THEN 'Nordeste'\n",
    "                        WHEN UF in ('AC','AP','AM','PA','RO','RR','TO') THEN 'Norte'\n",
    "                        WHEN UF in ('ES','MG','RJ','SP') THEN 'Sudeste'\n",
    "                        ELSE 'Sul' END Regiao\n",
    "         FROM estados  \n",
    "         ORDER BY 4"
   ]
  },
  {
   "cell_type": "code",
   "execution_count": 0,
   "metadata": {
    "application/vnd.databricks.v1+cell": {
     "cellMetadata": {
      "byteLimit": 2048000,
      "rowLimit": 10000
     },
     "inputWidgets": {},
     "nuid": "5fe8df6b-803a-4e63-946e-10ee9c5efe1d",
     "showTitle": true,
     "title": "ATENÇÃO PARA CASE SENSITIVE!!!!!!"
    }
   },
   "outputs": [
    {
     "output_type": "display_data",
     "data": {
      "text/html": [
       "<style scoped>\n",
       "  .table-result-container {\n",
       "    max-height: 300px;\n",
       "    overflow: auto;\n",
       "  }\n",
       "  table, th, td {\n",
       "    border: 1px solid black;\n",
       "    border-collapse: collapse;\n",
       "  }\n",
       "  th, td {\n",
       "    padding: 5px;\n",
       "  }\n",
       "  th {\n",
       "    text-align: left;\n",
       "  }\n",
       "</style><div class='table-result-container'><table class='table-result'><thead style='background-color: white'><tr><th>Estado</th><th>UF</th><th>Capital</th><th>Regiao</th></tr></thead><tbody><tr><td>Acre</td><td>AC</td><td>Rio Branco</td><td>Norte</td></tr><tr><td>Alagoas</td><td>AL</td><td>Maceió</td><td>Nordeste</td></tr><tr><td>Amapá</td><td>AP</td><td>Macapá</td><td>Norte</td></tr><tr><td>Amazonas</td><td>AM</td><td>Manaus</td><td>Norte</td></tr><tr><td>Bahia</td><td>BA</td><td>Salvador</td><td>Nordeste</td></tr><tr><td>Ceará</td><td>CE</td><td>Fortaleza</td><td>Nordeste</td></tr><tr><td>Distrito Federal</td><td>DF</td><td>Brasília</td><td>Sul</td></tr><tr><td>Espírito Santo</td><td>ES</td><td>Vitória</td><td>Sudeste</td></tr><tr><td>Goiás</td><td>GO</td><td>Goiânia</td><td>Sul</td></tr><tr><td>Maranhão</td><td>MA</td><td>São Luís</td><td>Nordeste</td></tr><tr><td>Mato Grosso</td><td>MT</td><td>Cuiabá</td><td>Centro-Oeste</td></tr><tr><td>Mato Grosso do Sul</td><td>MS</td><td>Campo Grande</td><td>Centro-Oeste</td></tr><tr><td>Minas Gerais</td><td>MG</td><td>Belo Horizonte</td><td>Sudeste</td></tr><tr><td>Pará</td><td>PA</td><td>Belém</td><td>Norte</td></tr><tr><td>Paraíba</td><td>PB</td><td>João Pessoa</td><td>Nordeste</td></tr><tr><td>Paraná</td><td>PR</td><td>Curitiba</td><td>Sul</td></tr><tr><td>Pernambuco</td><td>PE</td><td>Recife</td><td>Nordeste</td></tr><tr><td>Piauí</td><td>PI</td><td>Teresina</td><td>Nordeste</td></tr><tr><td>Rio de Janeiro</td><td>RJ</td><td>Rio de Janeiro</td><td>Sudeste</td></tr><tr><td>Rio Grande do Norte</td><td>RN</td><td>Natal</td><td>Nordeste</td></tr><tr><td>Rio Grande do Sul</td><td>RS</td><td>Porto Alegre</td><td>Sul</td></tr><tr><td>Rondônia</td><td>RO</td><td>Porto Velho</td><td>Norte</td></tr><tr><td>Roraima</td><td>RR</td><td>Boa Vista</td><td>Norte</td></tr><tr><td>Santa Catarina</td><td>SC</td><td>Florianópolis</td><td>Sul</td></tr><tr><td>São Paulo</td><td>SP</td><td>São Paulo</td><td>Sudeste</td></tr><tr><td>Sergipe</td><td>SE</td><td>Aracaju</td><td>Nordeste</td></tr><tr><td>Tocantins</td><td>TO</td><td>Palmas</td><td>Norte</td></tr></tbody></table></div>"
      ]
     },
     "metadata": {
      "application/vnd.databricks.v1+output": {
       "addedWidgets": {},
       "aggData": [],
       "aggError": "",
       "aggOverflow": false,
       "aggSchema": [],
       "aggSeriesLimitReached": false,
       "aggType": "",
       "arguments": {},
       "columnCustomDisplayInfos": {},
       "data": [
        [
         "Acre",
         "AC",
         "Rio Branco",
         "Norte"
        ],
        [
         "Alagoas",
         "AL",
         "Maceió",
         "Nordeste"
        ],
        [
         "Amapá",
         "AP",
         "Macapá",
         "Norte"
        ],
        [
         "Amazonas",
         "AM",
         "Manaus",
         "Norte"
        ],
        [
         "Bahia",
         "BA",
         "Salvador",
         "Nordeste"
        ],
        [
         "Ceará",
         "CE",
         "Fortaleza",
         "Nordeste"
        ],
        [
         "Distrito Federal",
         "DF",
         "Brasília",
         "Sul"
        ],
        [
         "Espírito Santo",
         "ES",
         "Vitória",
         "Sudeste"
        ],
        [
         "Goiás",
         "GO",
         "Goiânia",
         "Sul"
        ],
        [
         "Maranhão",
         "MA",
         "São Luís",
         "Nordeste"
        ],
        [
         "Mato Grosso",
         "MT",
         "Cuiabá",
         "Centro-Oeste"
        ],
        [
         "Mato Grosso do Sul",
         "MS",
         "Campo Grande",
         "Centro-Oeste"
        ],
        [
         "Minas Gerais",
         "MG",
         "Belo Horizonte",
         "Sudeste"
        ],
        [
         "Pará",
         "PA",
         "Belém",
         "Norte"
        ],
        [
         "Paraíba",
         "PB",
         "João Pessoa",
         "Nordeste"
        ],
        [
         "Paraná",
         "PR",
         "Curitiba",
         "Sul"
        ],
        [
         "Pernambuco",
         "PE",
         "Recife",
         "Nordeste"
        ],
        [
         "Piauí",
         "PI",
         "Teresina",
         "Nordeste"
        ],
        [
         "Rio de Janeiro",
         "RJ",
         "Rio de Janeiro",
         "Sudeste"
        ],
        [
         "Rio Grande do Norte",
         "RN",
         "Natal",
         "Nordeste"
        ],
        [
         "Rio Grande do Sul",
         "RS",
         "Porto Alegre",
         "Sul"
        ],
        [
         "Rondônia",
         "RO",
         "Porto Velho",
         "Norte"
        ],
        [
         "Roraima",
         "RR",
         "Boa Vista",
         "Norte"
        ],
        [
         "Santa Catarina",
         "SC",
         "Florianópolis",
         "Sul"
        ],
        [
         "São Paulo",
         "SP",
         "São Paulo",
         "Sudeste"
        ],
        [
         "Sergipe",
         "SE",
         "Aracaju",
         "Nordeste"
        ],
        [
         "Tocantins",
         "TO",
         "Palmas",
         "Norte"
        ]
       ],
       "datasetInfos": [],
       "dbfsResultPath": null,
       "isJsonSchema": true,
       "metadata": {},
       "overflow": false,
       "plotOptions": {
        "customPlotOptions": {},
        "displayType": "table",
        "pivotAggregation": null,
        "pivotColumns": null,
        "xColumns": null,
        "yColumns": null
       },
       "removedWidgets": [],
       "schema": [
        {
         "metadata": "{}",
         "name": "Estado",
         "type": "\"string\""
        },
        {
         "metadata": "{}",
         "name": "UF",
         "type": "\"string\""
        },
        {
         "metadata": "{}",
         "name": "Capital",
         "type": "\"string\""
        },
        {
         "metadata": "{}",
         "name": "Regiao",
         "type": "\"string\""
        }
       ],
       "type": "table"
      }
     },
     "output_type": "display_data"
    }
   ],
   "source": [
    "display(df.select('*' , when(df.UF.isin(['df','go','MT','MS']), 'Centro-Oeste')\n",
    "                         .when(df.UF.isin(['AL','BA','CE','MA','PB','PE','PI','RN','SE']), 'Nordeste')\n",
    "                         .when(df.UF.isin(['AC','AP','AM','PA','RO','RR','TO']), 'Norte')\n",
    "                         .when(df.UF.isin(['ES','MG','RJ','SP']), 'Sudeste')\n",
    "                            .otherwise('Sul').alias('Regiao') ))"
   ]
  }
 ],
 "metadata": {
  "application/vnd.databricks.v1+notebook": {
   "dashboards": [],
   "language": "python",
   "notebookMetadata": {
    "mostRecentlyExecutedCommandWithImplicitDF": {
     "commandId": 3388473371086325,
     "dataframes": [
      "_sqldf"
     ]
    },
    "pythonIndentUnit": 4
   },
   "notebookName": "case when",
   "widgets": {}
  }
 },
 "nbformat": 4,
 "nbformat_minor": 0
}
