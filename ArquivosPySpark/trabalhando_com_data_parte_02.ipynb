{
 "cells": [
  {
   "cell_type": "code",
   "execution_count": 0,
   "metadata": {
    "application/vnd.databricks.v1+cell": {
     "cellMetadata": {
      "byteLimit": 2048000,
      "rowLimit": 10000
     },
     "inputWidgets": {},
     "nuid": "6a43118f-91dd-45f4-b063-ad7b99831d9f",
     "showTitle": false,
     "title": ""
    }
   },
   "outputs": [],
   "source": [
    "from pyspark.sql.functions import *"
   ]
  },
  {
   "cell_type": "code",
   "execution_count": 0,
   "metadata": {
    "application/vnd.databricks.v1+cell": {
     "cellMetadata": {
      "byteLimit": 2048000,
      "rowLimit": 10000
     },
     "inputWidgets": {},
     "nuid": "3ed5e6e2-936f-488b-9da8-be546f2ae26f",
     "showTitle": false,
     "title": ""
    }
   },
   "outputs": [
    {
     "output_type": "stream",
     "name": "stdout",
     "output_type": "stream",
     "text": [
      "+----------------+--------------+\n|            Nome|DataNascimento|\n+----------------+--------------+\n|            Fred|    1983-10-03|\n|         Romário|    1966-01-29|\n|Ronaldo Fenômeno|    1976-09-18|\n+----------------+--------------+\n\n"
     ]
    }
   ],
   "source": [
    "dados = [('Fred','1983-10-03')\n",
    ",('Romário', '1966-01-29')\n",
    ",('Ronaldo Fenômeno', '1976-09-18')]\n",
    "\n",
    "schema = ('Nome', 'DataNascimento')\n",
    "\n",
    "df = spark.createDataFrame(dados, schema =schema)\n",
    "\n",
    "df.show()"
   ]
  },
  {
   "cell_type": "code",
   "execution_count": 0,
   "metadata": {
    "application/vnd.databricks.v1+cell": {
     "cellMetadata": {
      "byteLimit": 2048000,
      "rowLimit": 10000
     },
     "inputWidgets": {},
     "nuid": "6edbc794-f327-4fff-8d19-cf4bed2a7ac8",
     "showTitle": false,
     "title": ""
    }
   },
   "outputs": [],
   "source": [
    "df = df.withColumn('DataNascimento', to_date(df.DataNascimento))"
   ]
  },
  {
   "cell_type": "code",
   "execution_count": 0,
   "metadata": {
    "application/vnd.databricks.v1+cell": {
     "cellMetadata": {},
     "inputWidgets": {},
     "nuid": "3bd337d1-3c9d-406b-b2e3-3d9058f758ea",
     "showTitle": false,
     "title": ""
    }
   },
   "outputs": [],
   "source": [
    "ano\n",
    "mes\n",
    "dia\n"
   ]
  },
  {
   "cell_type": "code",
   "execution_count": 0,
   "metadata": {
    "application/vnd.databricks.v1+cell": {
     "cellMetadata": {
      "byteLimit": 2048000,
      "rowLimit": 10000
     },
     "inputWidgets": {},
     "nuid": "5f51a10c-a04a-44ae-81d9-0d94d9393418",
     "showTitle": false,
     "title": ""
    }
   },
   "outputs": [],
   "source": [
    "df = df.withColumn('Ano', year(df.DataNascimento))\\\n",
    ".withColumn('Mes', month(df.DataNascimento))"
   ]
  },
  {
   "cell_type": "code",
   "execution_count": 0,
   "metadata": {
    "application/vnd.databricks.v1+cell": {
     "cellMetadata": {},
     "inputWidgets": {},
     "nuid": "92f47d2f-80ef-4d89-b774-d899aabfb47c",
     "showTitle": false,
     "title": ""
    }
   },
   "outputs": [],
   "source": [
    "365 Dias\n",
    "31 / 30 / 29 / 28\n",
    "1 - 7"
   ]
  },
  {
   "cell_type": "code",
   "execution_count": 0,
   "metadata": {
    "application/vnd.databricks.v1+cell": {
     "cellMetadata": {
      "byteLimit": 2048000,
      "rowLimit": 10000
     },
     "inputWidgets": {},
     "nuid": "1e86ba2a-5772-487d-bb38-a4277ed86fcb",
     "showTitle": false,
     "title": ""
    }
   },
   "outputs": [],
   "source": [
    "df = df.withColumn('DiaDoAno', dayofyear(df.DataNascimento))\\\n",
    ".withColumn('DiaDoMes', dayofmonth(df.DataNascimento))\\\n",
    ".withColumn('DiaDaSemana', dayofweek(df.DataNascimento))"
   ]
  },
  {
   "cell_type": "code",
   "execution_count": 0,
   "metadata": {
    "application/vnd.databricks.v1+cell": {
     "cellMetadata": {
      "byteLimit": 2048000,
      "rowLimit": 10000
     },
     "inputWidgets": {},
     "nuid": "84b97ad3-76bd-420f-8d88-f916aabb6c39",
     "showTitle": false,
     "title": ""
    }
   },
   "outputs": [],
   "source": [
    "df = df.withColumn('DataCadastro', current_timestamp())"
   ]
  },
  {
   "cell_type": "code",
   "execution_count": 0,
   "metadata": {
    "application/vnd.databricks.v1+cell": {
     "cellMetadata": {},
     "inputWidgets": {},
     "nuid": "dadb7a26-8944-4a22-a969-8d4c0cacdf3e",
     "showTitle": false,
     "title": ""
    }
   },
   "outputs": [],
   "source": [
    "hora\n",
    "minuto\n",
    "segundo"
   ]
  },
  {
   "cell_type": "code",
   "execution_count": 0,
   "metadata": {
    "application/vnd.databricks.v1+cell": {
     "cellMetadata": {
      "byteLimit": 2048000,
      "rowLimit": 10000
     },
     "inputWidgets": {},
     "nuid": "b184f3e6-bec8-469d-ab92-07e2e2042f26",
     "showTitle": false,
     "title": ""
    }
   },
   "outputs": [],
   "source": [
    "df = (df.withColumn('HoraCadastro', hour(df.DataCadastro))\n",
    ".withColumn('MinutoCadastro', minute(df.DataCadastro))\n",
    ".withColumn('SegundoCadastro', second(df.DataCadastro)))"
   ]
  }
 ],
 "metadata": {
  "application/vnd.databricks.v1+notebook": {
   "dashboards": [],
   "language": "python",
   "notebookMetadata": {
    "pythonIndentUnit": 4
   },
   "notebookName": "trabalhando_com_data_parte_02",
   "widgets": {}
  }
 },
 "nbformat": 4,
 "nbformat_minor": 0
}
