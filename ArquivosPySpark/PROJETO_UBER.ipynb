{
 "cells": [
  {
   "cell_type": "code",
   "execution_count": 0,
   "metadata": {
    "application/vnd.databricks.v1+cell": {
     "cellMetadata": {
      "byteLimit": 2048000,
      "rowLimit": 10000
     },
     "inputWidgets": {},
     "nuid": "96b1a336-777d-4daf-996d-46ef3c526f36",
     "showTitle": true,
     "title": "00 - Importação de Bibliotecas"
    }
   },
   "outputs": [],
   "source": [
    "from pyspark.sql import SparkSession\n",
    "from pyspark.sql.functions import *\n",
    "import pyspark.sql.functions as F\n",
    "from pyspark.sql.types import *\n",
    "from pyspark import SparkFiles\n",
    "import pandas as pd\n",
    "\n",
    "# Configurações de Display \n",
    "pd.set_option('display.max_columns', None)\n",
    "from IPython.core.display import HTML\n",
    "display(HTML(\"<style>pre { white-space: pre !important; }</style>\"))\n",
    "\n",
    "spark = SparkSession.builder.getOrCreate()"
   ]
  },
  {
   "cell_type": "code",
   "execution_count": 0,
   "metadata": {
    "application/vnd.databricks.v1+cell": {
     "cellMetadata": {
      "byteLimit": 2048000,
      "rowLimit": 10000
     },
     "inputWidgets": {},
     "nuid": "0fb00b58-3540-42df-b4a2-e8644a75ecb6",
     "showTitle": false,
     "title": ""
    }
   },
   "outputs": [],
   "source": [
    "%run /estudos/libs/bibliotecas"
   ]
  },
  {
   "cell_type": "code",
   "execution_count": 0,
   "metadata": {
    "application/vnd.databricks.v1+cell": {
     "cellMetadata": {
      "byteLimit": 2048000,
      "rowLimit": 10000
     },
     "inputWidgets": {},
     "nuid": "6669b8c4-0adc-4f7c-8bce-a2f7d2cc945e",
     "showTitle": true,
     "title": "01 - Ingestão do Arquivo com Dados do Uber"
    }
   },
   "outputs": [],
   "source": [
    "dfUBER_ORIGINAL = (\n",
    "    spark.createDataFrame(pd.read_csv('https://raw.githubusercontent.com/dbaassists/Arquivos_Base_PY/main/uber/trips_data.csv?token=GHSAT0AAAAAACHGS3UTVWRCAQPV4RASFW2CZIYNWHQ'\n",
    "                                       ,sep=','\n",
    "                                       ,encoding='utf-8'\n",
    "                                       ,header=0)\n",
    "                              )\n",
    ")"
   ]
  },
  {
   "cell_type": "code",
   "execution_count": 0,
   "metadata": {
    "application/vnd.databricks.v1+cell": {
     "cellMetadata": {
      "byteLimit": 2048000,
      "rowLimit": 10000
     },
     "inputWidgets": {},
     "nuid": "e70bc243-f26a-423b-aa62-f5cc2386ff8f",
     "showTitle": false,
     "title": ""
    }
   },
   "outputs": [],
   "source": [
    "numero_linhas = dfUBER_ORIGINAL.count()\n",
    "\n",
    "numero_colunas = len(dfUBER_ORIGINAL.dtypes)\n",
    "\n",
    "print(f\"Qtd Linhas: {numero_linhas}\" )\n",
    "print(f\"Qtd Colunas: {numero_colunas}\" )\n"
   ]
  },
  {
   "cell_type": "code",
   "execution_count": 0,
   "metadata": {
    "application/vnd.databricks.v1+cell": {
     "cellMetadata": {
      "byteLimit": 2048000,
      "rowLimit": 10000
     },
     "inputWidgets": {},
     "nuid": "193a5503-b0ff-4aad-97c8-8205ac057439",
     "showTitle": true,
     "title": "02 - Alteração de Valores (Lat/Log e Origem/Destino)"
    }
   },
   "outputs": [],
   "source": [
    "dfUBER_ORIGINAL=(dfUBER_ORIGINAL.withColumn(\"Begin Trip Lat\", lit(\"0\"))\n",
    ".withColumn(\"Begin Trip Lng\", lit(\"0\"))\n",
    ".withColumn(\"Begin Trip Address\", lit(\"Origem\"))\n",
    ".withColumn(\"Dropoff Lat\", lit(\"0\"))\n",
    ".withColumn(\"Dropoff Lng\", lit(\"0\"))\n",
    ".withColumn(\"Dropoff Address\", lit(\"Destino\")))"
   ]
  },
  {
   "cell_type": "code",
   "execution_count": 0,
   "metadata": {
    "application/vnd.databricks.v1+cell": {
     "cellMetadata": {
      "byteLimit": 2048000,
      "rowLimit": 10000
     },
     "inputWidgets": {},
     "nuid": "87b4af55-ae7e-48ce-a511-f1672aa7753a",
     "showTitle": true,
     "title": "03 - Criação de Diretórios Para Salvar os Dados"
    }
   },
   "outputs": [],
   "source": [
    "pathArquivo = \"/Storage/dados_viagens_uber/\"\n",
    "cria_diretorio(pathArquivo)"
   ]
  },
  {
   "cell_type": "code",
   "execution_count": 0,
   "metadata": {
    "application/vnd.databricks.v1+cell": {
     "cellMetadata": {
      "byteLimit": 2048000,
      "rowLimit": 10000
     },
     "inputWidgets": {},
     "nuid": "73c13fa3-8f87-408c-aa04-f659fafb83db",
     "showTitle": true,
     "title": "04 - Salvando o Arquivo"
    }
   },
   "outputs": [],
   "source": [
    "arquivoUBER_ATUALIZADO = pathArquivo + 'dados_viagens_uber.csv'\n",
    "arquivoUBER_ATUALIZADO\n",
    "(\n",
    "    dfUBER_ORIGINAL\n",
    "      .write.option(\"header\", \"true\").option('delimiter',';')\n",
    "      .format(\"csv\")\n",
    "      .mode(\"overwrite\")\n",
    "      .save(arquivoUBER_ATUALIZADO)\n",
    ")"
   ]
  },
  {
   "cell_type": "code",
   "execution_count": 0,
   "metadata": {
    "application/vnd.databricks.v1+cell": {
     "cellMetadata": {
      "byteLimit": 2048000,
      "rowLimit": 10000
     },
     "inputWidgets": {},
     "nuid": "00100f00-cb4a-46a5-a0d9-8c8700d19569",
     "showTitle": true,
     "title": "04.1 - Identificando o Arquivo Salvo no Diretório"
    }
   },
   "outputs": [],
   "source": [
    "dbutils.fs.ls(pathArquivo)"
   ]
  },
  {
   "cell_type": "code",
   "execution_count": 0,
   "metadata": {
    "application/vnd.databricks.v1+cell": {
     "cellMetadata": {
      "byteLimit": 2048000,
      "rowLimit": 10000
     },
     "inputWidgets": {},
     "nuid": "866ccec0-8d22-4f0c-8ef7-4f8fa0b419ac",
     "showTitle": true,
     "title": "05 - Importando o Arquivo Tratado"
    }
   },
   "outputs": [],
   "source": [
    "print(arquivoUBER_ATUALIZADO)\n",
    "dfUBER = spark.read.csv(arquivoUBER_ATUALIZADO\n",
    "                            ,header=True\n",
    "                            ,sep=';'\n",
    "                            ,encoding='utf-8')\n",
    "\n",
    "display(dfUBER)"
   ]
  },
  {
   "cell_type": "code",
   "execution_count": 0,
   "metadata": {
    "application/vnd.databricks.v1+cell": {
     "cellMetadata": {
      "byteLimit": 2048000,
      "rowLimit": 10000
     },
     "inputWidgets": {},
     "nuid": "97b0de6a-3758-4d55-998c-3dc1965e348c",
     "showTitle": false,
     "title": ""
    }
   },
   "outputs": [],
   "source": [
    "dfUBER.printSchema()"
   ]
  },
  {
   "cell_type": "code",
   "execution_count": 0,
   "metadata": {
    "application/vnd.databricks.v1+cell": {
     "cellMetadata": {
      "byteLimit": 2048000,
      "rowLimit": 10000
     },
     "inputWidgets": {},
     "nuid": "e9b4ac56-a339-449e-a780-afaf6ed4bbb7",
     "showTitle": true,
     "title": "06 - Renomear Colunas DataFrame"
    }
   },
   "outputs": [],
   "source": [
    "dfUBER = (dfUBER.withColumnRenamed('City','NomeCidade')\n",
    "                .withColumnRenamed('Product Type','NomeProduto')\n",
    "                .withColumnRenamed('Trip or Order Status','StatusViagem')\n",
    "                .withColumnRenamed('Request Time','DthSolicitacaoViagem')\n",
    "                .withColumnRenamed('Begin Trip Time','DthInicioViagem')\n",
    "                .withColumnRenamed('Begin Trip Lat','LatitudeInicioViagem')\n",
    "                .withColumnRenamed('Begin Trip Lng','LongitudeInicioViagem')\n",
    "                .withColumnRenamed('Begin Trip Address','EnderecoInicioViagem')\n",
    "                .withColumnRenamed('Dropoff Time','DthFimViagem')\n",
    "                .withColumnRenamed('Dropoff Lat','LatitudeDestinoViagem')\n",
    "                .withColumnRenamed('Dropoff Lng','LongitudeDestinoViagem')\n",
    "                .withColumnRenamed('Dropoff Address','EnderecoDestinoViagem')\n",
    "                .withColumnRenamed('Distance (miles)','DistanciaPercorridaEmMilhas')\n",
    "                .withColumnRenamed('Fare Amount','ValorPago')\n",
    "                .withColumnRenamed('Fare Currency','Moeda')\n",
    "                )"
   ]
  },
  {
   "cell_type": "code",
   "execution_count": 0,
   "metadata": {
    "application/vnd.databricks.v1+cell": {
     "cellMetadata": {
      "byteLimit": 2048000,
      "rowLimit": 10000
     },
     "inputWidgets": {},
     "nuid": "d2ee32f5-be75-44fd-a5e3-641b72cda028",
     "showTitle": true,
     "title": "07 - Tratando Colunas de Data"
    }
   },
   "outputs": [],
   "source": [
    "dfUBER = (dfUBER.withColumn(\"DthSolicitacaoViagem\", expr(\"substr(DthSolicitacaoViagem, 1, 19)\"))\n",
    "                .withColumn(\"DthInicioViagem\", expr(\"substr(DthInicioViagem, 1, 19)\"))\n",
    "                .withColumn(\"DthFimViagem\", expr(\"substr(DthFimViagem, 1, 19)\"))\n",
    "            )"
   ]
  },
  {
   "cell_type": "code",
   "execution_count": 0,
   "metadata": {
    "application/vnd.databricks.v1+cell": {
     "cellMetadata": {
      "byteLimit": 2048000,
      "rowLimit": 10000
     },
     "inputWidgets": {},
     "nuid": "95d8df67-7110-434b-82dc-baad2388d0db",
     "showTitle": true,
     "title": "08 - Convertendo DataTypes"
    }
   },
   "outputs": [],
   "source": [
    "dfUBER = (dfUBER.withColumn(\"DthSolicitacaoViagem\", col(\"DthSolicitacaoViagem\").cast(\"timestamp\"))\n",
    "                .withColumn(\"DthInicioViagem\", col(\"DthInicioViagem\").cast(\"timestamp\"))\n",
    "                .withColumn(\"DthFimViagem\", col(\"DthFimViagem\").cast(\"timestamp\"))\n",
    "                .withColumn(\"DistanciaPercorridaEmMilhas\", col(\"DistanciaPercorridaEmMilhas\").cast(\"float\"))\n",
    "                .withColumn(\"ValorPago\", col(\"ValorPago\").cast(\"float\"))\n",
    "            )"
   ]
  },
  {
   "cell_type": "markdown",
   "metadata": {
    "application/vnd.databricks.v1+cell": {
     "cellMetadata": {
      "byteLimit": 2048000,
      "rowLimit": 10000
     },
     "inputWidgets": {},
     "nuid": "2721a30b-152b-4862-8d89-c76a3bc4f07c",
     "showTitle": false,
     "title": ""
    }
   },
   "source": [
    "# 09 - Expandindo a visão de Datas"
   ]
  },
  {
   "cell_type": "code",
   "execution_count": 0,
   "metadata": {
    "application/vnd.databricks.v1+cell": {
     "cellMetadata": {
      "byteLimit": 2048000,
      "rowLimit": 10000
     },
     "inputWidgets": {},
     "nuid": "885dbf0d-12e2-4e4c-9e76-f2786aa8ccab",
     "showTitle": true,
     "title": "09.1 - Expandindo a visão de Datas"
    }
   },
   "outputs": [],
   "source": [
    "dfUBER = (dfUBER.withColumn(\"AnoViagem\" , year(dfUBER.DthSolicitacaoViagem))\n",
    "                .withColumn(\"MesViagem\" , month(dfUBER.DthSolicitacaoViagem))\n",
    "                .withColumn(\"DiaViagem\" , dayofmonth(dfUBER.DthSolicitacaoViagem))\n",
    "                .withColumn(\"DiaViagemExtenso\" , date_format(dfUBER.DthSolicitacaoViagem,\"EEEE\")))\n",
    "                "
   ]
  },
  {
   "cell_type": "code",
   "execution_count": 0,
   "metadata": {
    "application/vnd.databricks.v1+cell": {
     "cellMetadata": {
      "byteLimit": 2048000,
      "rowLimit": 10000
     },
     "inputWidgets": {},
     "nuid": "cffd7b59-66b6-4d67-9261-27133638c26c",
     "showTitle": true,
     "title": "09.2 - Calculando o Tempo de Espera entre a Solicitação e o Inicio da Viagem"
    }
   },
   "outputs": [],
   "source": [
    "dfUBER = dfUBER.withColumn('TempoEsperaViagem'\n",
    "                          , round((to_timestamp(col('DthInicioViagem')).cast(\"long\") -\n",
    "                           to_timestamp(col('DthSolicitacaoViagem')).cast(\"long\")) /60))"
   ]
  },
  {
   "cell_type": "code",
   "execution_count": 0,
   "metadata": {
    "application/vnd.databricks.v1+cell": {
     "cellMetadata": {
      "byteLimit": 2048000,
      "rowLimit": 10000
     },
     "inputWidgets": {},
     "nuid": "327a6462-2513-4549-842e-3d195ef470d3",
     "showTitle": false,
     "title": ""
    }
   },
   "outputs": [],
   "source": [
    "display(dfUBER)"
   ]
  },
  {
   "cell_type": "code",
   "execution_count": 0,
   "metadata": {
    "application/vnd.databricks.v1+cell": {
     "cellMetadata": {
      "byteLimit": 2048000,
      "rowLimit": 10000
     },
     "inputWidgets": {},
     "nuid": "c0c7d552-eec2-47a0-af22-f899581a6dea",
     "showTitle": true,
     "title": "09.3 - Traduzindo o Dia da Semana para o Português"
    }
   },
   "outputs": [],
   "source": [
    "dfUBER = (dfUBER.withColumn(\"DiaDaSemana\", when(col(\"DiaViagemExtenso\")==\"Sunday\",\"0 - Domingo\")\n",
    "                  .when(col(\"DiaViagemExtenso\")==\"Monday\",\"1 - Segunda-Feira\")\n",
    "                  .when(col(\"DiaViagemExtenso\")==\"Tuesday\",\"2 - Terça-Feira\")\n",
    "                  .when(col(\"DiaViagemExtenso\")==\"Wednesday\",\"3 - Quarta-Feira\")\n",
    "                  .when(col(\"DiaViagemExtenso\")==\"Thursday\",\"4 - Quinta-Feira\")\n",
    "                  .when(col(\"DiaViagemExtenso\")==\"Friday\",\"4 - Sexta-Feira\")\n",
    "                  .when(col(\"DiaViagemExtenso\")==\"Saturday\",\"6 - Sábado\")))"
   ]
  },
  {
   "cell_type": "markdown",
   "metadata": {
    "application/vnd.databricks.v1+cell": {
     "cellMetadata": {
      "byteLimit": 2048000,
      "rowLimit": 10000
     },
     "inputWidgets": {},
     "nuid": "babe980f-2e08-43ff-9b21-f13fa0d7cf04",
     "showTitle": false,
     "title": ""
    }
   },
   "source": [
    "# 10 - TRATAMENTO NAS COLUNAS"
   ]
  },
  {
   "cell_type": "code",
   "execution_count": 0,
   "metadata": {
    "application/vnd.databricks.v1+cell": {
     "cellMetadata": {
      "byteLimit": 2048000,
      "rowLimit": 10000
     },
     "inputWidgets": {},
     "nuid": "e98b00a5-50bd-422e-acf9-516a8a142d29",
     "showTitle": true,
     "title": "10.1 - Convertendo a Coluna Distância Percorrida de Milhas para KM"
    }
   },
   "outputs": [],
   "source": [
    "dfUBER = (dfUBER.withColumn(\"DistanciaPercorridaEmMilhas\", col(\"DistanciaPercorridaEmMilhas\") * 1.60934))"
   ]
  },
  {
   "cell_type": "code",
   "execution_count": 0,
   "metadata": {
    "application/vnd.databricks.v1+cell": {
     "cellMetadata": {
      "byteLimit": 2048000,
      "rowLimit": 10000
     },
     "inputWidgets": {},
     "nuid": "fede5231-d456-40df-a5d7-4c6eaf41c032",
     "showTitle": true,
     "title": "10.2 - Aplicando De-Para Coluna Status Viagem"
    }
   },
   "outputs": [],
   "source": [
    "dfUBER.select(col(\"StatusViagem\")).distinct().show()"
   ]
  },
  {
   "cell_type": "code",
   "execution_count": 0,
   "metadata": {
    "application/vnd.databricks.v1+cell": {
     "cellMetadata": {
      "byteLimit": 2048000,
      "rowLimit": 10000
     },
     "inputWidgets": {},
     "nuid": "8eff3de6-c315-44c1-b27f-27bc50645acb",
     "showTitle": false,
     "title": ""
    }
   },
   "outputs": [],
   "source": [
    "dfUBER = (dfUBER.withColumn(\"StatusViagem\" , when(col(\"StatusViagem\")== \"UNFULFILLED\",\"Descartada\")\n",
    "                                            .when(col(\"StatusViagem\")== \"COMPLETED\",\"Concluida\")\n",
    "                                            .when(col(\"StatusViagem\")== \"CANCELED\",\"Cancelada\")\n",
    "                                            .when(col(\"StatusViagem\")== \"DRIVER_CANCELED\",\"Cancelada pelo Motorista\")\n",
    "            )\n",
    "            )"
   ]
  },
  {
   "cell_type": "code",
   "execution_count": 0,
   "metadata": {
    "application/vnd.databricks.v1+cell": {
     "cellMetadata": {
      "byteLimit": 2048000,
      "rowLimit": 10000
     },
     "inputWidgets": {},
     "nuid": "45f91049-8d70-4fa4-a554-d3b4d3d89684",
     "showTitle": false,
     "title": ""
    }
   },
   "outputs": [],
   "source": [
    "dfUBER.select(col(\"StatusViagem\")).distinct().show()"
   ]
  },
  {
   "cell_type": "code",
   "execution_count": 0,
   "metadata": {
    "application/vnd.databricks.v1+cell": {
     "cellMetadata": {
      "byteLimit": 2048000,
      "rowLimit": 10000
     },
     "inputWidgets": {},
     "nuid": "1e644d47-dda4-40a5-90cb-ace3f72d33a1",
     "showTitle": true,
     "title": "10.3 - Aplicando De-Para Coluna Nome do Produto"
    }
   },
   "outputs": [],
   "source": [
    "dfUBER.select(col(\"NomeProduto\")).distinct().show()"
   ]
  },
  {
   "cell_type": "code",
   "execution_count": 0,
   "metadata": {
    "application/vnd.databricks.v1+cell": {
     "cellMetadata": {
      "byteLimit": 2048000,
      "rowLimit": 10000
     },
     "inputWidgets": {},
     "nuid": "42d8ff5d-5548-4d93-8835-6b301d358d8a",
     "showTitle": false,
     "title": ""
    }
   },
   "outputs": [],
   "source": [
    "dfUBER = (dfUBER.withColumn(\"NomeProduto\" , when((col(\"NomeProduto\")== \"UberX\") | (col(\"NomeProduto\")== \"uberX\") ,\"Uber X\")\n",
    "                                            .when((col(\"NomeProduto\")== \"Comfort Planet\") | (col(\"NomeProduto\")== \"Comfort\"),\"Uber Confort\")\n",
    "                                            .when(col(\"NomeProduto\")== \"VIP\",\"Uber VIP\")\n",
    "                                            .when(col(\"NomeProduto\")== \"Flash Moto\",\"Uber Flash Moto\")\n",
    "                                            .when(col(\"NomeProduto\")== \"Flash\",\"Uber Flash\")\n",
    "                                            .when(col(\"NomeProduto\")== \"Black\",\"Uber Black\")\n",
    "                                            .otherwise(\"N/I\")\n",
    "            )\n",
    "            )"
   ]
  },
  {
   "cell_type": "code",
   "execution_count": 0,
   "metadata": {
    "application/vnd.databricks.v1+cell": {
     "cellMetadata": {
      "byteLimit": 2048000,
      "rowLimit": 10000
     },
     "inputWidgets": {},
     "nuid": "e9a943d3-1fe4-4109-bc9c-e6e0ca8cd285",
     "showTitle": false,
     "title": ""
    }
   },
   "outputs": [],
   "source": [
    "dfUBER.select(col(\"NomeProduto\")).distinct().show()"
   ]
  },
  {
   "cell_type": "markdown",
   "metadata": {
    "application/vnd.databricks.v1+cell": {
     "cellMetadata": {
      "byteLimit": 2048000,
      "rowLimit": 10000
     },
     "inputWidgets": {},
     "nuid": "a1c8b516-4a47-4476-b319-321f0f6eea03",
     "showTitle": false,
     "title": ""
    }
   },
   "source": [
    "# 11 - ETAPA DE ELIMINAÇÃO DE REGISTROS"
   ]
  },
  {
   "cell_type": "code",
   "execution_count": 0,
   "metadata": {
    "application/vnd.databricks.v1+cell": {
     "cellMetadata": {
      "byteLimit": 2048000,
      "rowLimit": 10000
     },
     "inputWidgets": {},
     "nuid": "4f0bbd6c-d1e5-4d81-b7fc-03c3f64b6271",
     "showTitle": true,
     "title": "11.1 - Eliminar Registros com Status Viagem = Descartada"
    }
   },
   "outputs": [],
   "source": [
    "dfUBER = dfUBER.select(\"*\").where(\"StatusViagem != 'Descartada'\")\n",
    "#display(dfUBER.filter(dfUBER.StatusViagem != 'Descartada'))\n",
    "#display(dfUBER.select(\"*\").where(\"StatusViagem != 'Descartada'\"))"
   ]
  },
  {
   "cell_type": "code",
   "execution_count": 0,
   "metadata": {
    "application/vnd.databricks.v1+cell": {
     "cellMetadata": {
      "byteLimit": 2048000,
      "rowLimit": 10000
     },
     "inputWidgets": {},
     "nuid": "39f61b3e-051a-4fc0-8d84-eaeff4b212b5",
     "showTitle": true,
     "title": "11.2 - Criando o DataFrame Final (Selecionar Apenas as Colunas Necessárias)"
    }
   },
   "outputs": [],
   "source": [
    "dfDadosUBER = dfUBER.select('NomeCidade'\n",
    "                            ,'NomeProduto'\n",
    "                            ,'StatusViagem'\n",
    "                            ,'DthSolicitacaoViagem'\n",
    "                            ,'DthInicioViagem'\n",
    "                            ,'DthFimViagem'\n",
    "                            ,'DistanciaPercorridaEmMilhas'\n",
    "                            ,'ValorPago'\n",
    "                            ,'AnoViagem'\n",
    "                            ,'MesViagem'\n",
    "                            ,'DiaViagem'\n",
    "                            ,'DiaViagemExtenso'\n",
    "                            ,'DiaDaSemana'\n",
    "                            ,'TempoEsperaViagem'\n",
    "                            ,lit(1).alias('QtdViagem'))"
   ]
  },
  {
   "cell_type": "markdown",
   "metadata": {
    "application/vnd.databricks.v1+cell": {
     "cellMetadata": {
      "byteLimit": 2048000,
      "rowLimit": 10000
     },
     "inputWidgets": {},
     "nuid": "b5a8b345-0490-4a62-b634-57dc54662d78",
     "showTitle": false,
     "title": ""
    }
   },
   "source": [
    "\n",
    "# 12 - ANALISANDO OS DADOS"
   ]
  },
  {
   "cell_type": "code",
   "execution_count": 0,
   "metadata": {
    "application/vnd.databricks.v1+cell": {
     "cellMetadata": {
      "byteLimit": 2048000,
      "rowLimit": 10000
     },
     "inputWidgets": {},
     "nuid": "243a56a4-e432-4c2f-9c31-e03f3473fc16",
     "showTitle": false,
     "title": ""
    }
   },
   "outputs": [],
   "source": [
    "dfDadosUBER.printSchema()"
   ]
  },
  {
   "cell_type": "code",
   "execution_count": 0,
   "metadata": {
    "application/vnd.databricks.v1+cell": {
     "cellMetadata": {
      "byteLimit": 2048000,
      "rowLimit": 10000
     },
     "inputWidgets": {},
     "nuid": "b4937904-0ff5-412e-af8c-fa875679196c",
     "showTitle": false,
     "title": ""
    }
   },
   "outputs": [],
   "source": [
    "display(spark.sql(\"\"\"\n",
    "          SELECT A.NomeProduto\n",
    "          , A.AnoViagem\n",
    "          , A.StatusViagem\n",
    "          , Sum(A.ValorPago) ValorPago\n",
    "          , round((Sum(A.ValorPago) / B.QtdViagem),3) MediaGasto\n",
    "          , SUM(A.QtdViagem) QtdViagem\n",
    "          , round((SUM(A.QtdViagem) / ( select SUM(QtdViagem) FROM {df} )),3) Media \n",
    "          FROM {df} A\n",
    "          INNER JOIN (\n",
    "              \n",
    "              SELECT  NomeProduto , AnoViagem, StatusViagem, Sum(A.QtdViagem) QtdViagem FROM {df} A\n",
    "              GROUP BY NomeProduto , AnoViagem, StatusViagem\n",
    "          ) B\n",
    "          ON A.NomeProduto = B.NomeProduto\n",
    "          AND A.AnoViagem = B.AnoViagem\n",
    "          AND A.StatusViagem = B.StatusViagem\n",
    "          WHERE A.AnoViagem = 2021\n",
    "          GROUP BY A.NomeProduto\n",
    "          , A.AnoViagem\n",
    "          , A.StatusViagem\n",
    "          , B.QtdViagem\n",
    "          \"\"\",df=dfDadosUBER))"
   ]
  },
  {
   "cell_type": "code",
   "execution_count": 0,
   "metadata": {
    "application/vnd.databricks.v1+cell": {
     "cellMetadata": {
      "byteLimit": 2048000,
      "rowLimit": 10000
     },
     "inputWidgets": {},
     "nuid": "4c0b91aa-6e26-40a2-9be4-b0c35a77383c",
     "showTitle": false,
     "title": ""
    }
   },
   "outputs": [],
   "source": [
    "display(spark.sql(\"\"\"\n",
    "          SELECT \n",
    "          AnoViagem\n",
    "          , Sum(ValorPago) ValorPago\n",
    "          , round(Sum(ValorPago) / (SUM(QtdViagem)),3) MediaGasto\n",
    "          , SUM(QtdViagem) QtdViagem\n",
    "          , round((SUM(QtdViagem) / ( select SUM(QtdViagem) FROM {df} )),3) Media \n",
    "          FROM {df} \n",
    "          GROUP BY \n",
    "          AnoViagem\n",
    "          ORDER BY AnoViagem\n",
    "          \"\"\",df=dfDadosUBER))"
   ]
  },
  {
   "cell_type": "code",
   "execution_count": 0,
   "metadata": {
    "application/vnd.databricks.v1+cell": {
     "cellMetadata": {
      "byteLimit": 2048000,
      "rowLimit": 10000
     },
     "inputWidgets": {},
     "nuid": "41ed87a1-6745-41c0-a669-e012ea0d4b92",
     "showTitle": false,
     "title": ""
    }
   },
   "outputs": [],
   "source": [
    "display(spark.sql(\"\"\"\n",
    "          SELECT \n",
    "          DiaDaSemana\n",
    "          , StatusViagem\n",
    "          , Sum(ValorPago) ValorPago\n",
    "          , round(Sum(ValorPago) / (SUM(QtdViagem)),3) MediaGasto\n",
    "          , SUM(QtdViagem) QtdViagem\n",
    "          , round((SUM(QtdViagem) / ( select SUM(QtdViagem) FROM {df} )),3) Media \n",
    "          FROM {df} \n",
    "          GROUP BY \n",
    "          DiaDaSemana\n",
    "          , StatusViagem\n",
    "          ORDER BY DiaDaSemana\n",
    "          \n",
    "          \"\"\",df=dfDadosUBER))"
   ]
  },
  {
   "cell_type": "code",
   "execution_count": 0,
   "metadata": {
    "application/vnd.databricks.v1+cell": {
     "cellMetadata": {
      "byteLimit": 2048000,
      "rowLimit": 10000
     },
     "inputWidgets": {},
     "nuid": "ad06370a-9e50-441b-9777-b0a501823cf5",
     "showTitle": false,
     "title": ""
    }
   },
   "outputs": [],
   "source": [
    "display(spark.sql(\"\"\"\n",
    "          SELECT \n",
    "          AnoViagem\n",
    "          ,TempoEsperaViagem TempoEsperaViagem\n",
    "          FROM {df} \n",
    "          WHERE StatusViagem = 'Concluida'\n",
    "          --group by AnoViagem\n",
    "          ORDER BY AnoViagem\n",
    "          \"\"\",df=dfDadosUBER))"
   ]
  },
  {
   "cell_type": "code",
   "execution_count": 0,
   "metadata": {
    "application/vnd.databricks.v1+cell": {
     "cellMetadata": {
      "byteLimit": 2048000,
      "rowLimit": 10000
     },
     "inputWidgets": {},
     "nuid": "1c7a7566-a52f-4da1-bb88-62fa5e418a26",
     "showTitle": false,
     "title": ""
    }
   },
   "outputs": [],
   "source": [
    "display(spark.sql(\"\"\"\n",
    "          SELECT \n",
    "          AnoViagem\n",
    "          ,round(sum(ValorPago) / sum(DistanciaPercorridaEmMilhas),2) PagPorKM\n",
    "          FROM {df} \n",
    "          WHERE StatusViagem = 'Concluida'\n",
    "          group by AnoViagem\n",
    "          ORDER BY AnoViagem\n",
    "          \"\"\",df=dfDadosUBER))"
   ]
  },
  {
   "cell_type": "code",
   "execution_count": 0,
   "metadata": {
    "application/vnd.databricks.v1+cell": {
     "cellMetadata": {
      "byteLimit": 2048000,
      "rowLimit": 10000
     },
     "inputWidgets": {},
     "nuid": "8c8f08ea-8883-4f7a-8fb5-9c770f1850ed",
     "showTitle": false,
     "title": ""
    }
   },
   "outputs": [],
   "source": [
    "display(spark.sql(\"\"\"\n",
    "          SELECT \n",
    "          AnoViagem\n",
    "          ,100 TotalViagens\n",
    "          ,(sum(case when StatusViagem = 'Concluida' then 1 else 0 end) /count(1)) * 100 ViagensConcluidas\n",
    "          ,(sum(case when StatusViagem != 'Concluida' then 1 else 0 end) /count(1)) * 100 ViagensCanceladas\n",
    "          FROM {df} \n",
    "          --WHERE StatusViagem = 'Concluida'\n",
    "          group by AnoViagem\n",
    "          ORDER BY AnoViagem\n",
    "          \"\"\",df=dfDadosUBER))"
   ]
  }
 ],
 "metadata": {
  "application/vnd.databricks.v1+notebook": {
   "dashboards": [
    {
     "elements": [
      {
       "dashboardResultIndex": 0,
       "elementNUID": "866ccec0-8d22-4f0c-8ef7-4f8fa0b419ac",
       "elementType": "command",
       "guid": "824d8edb-1d46-41bc-8d37-3e2c157dede8",
       "options": null,
       "position": {
        "height": 6,
        "width": 12,
        "x": 0,
        "y": 0,
        "z": null
       },
       "resultIndex": null
      }
     ],
     "globalVars": {},
     "guid": "",
     "layoutOption": {
      "grid": true,
      "stack": true
     },
     "nuid": "2f666379-5936-4078-bf60-dc71dbf20bd2",
     "origId": 0,
     "title": "Untitled",
     "version": "DashboardViewV1",
     "width": 1024
    }
   ],
   "language": "python",
   "notebookMetadata": {
    "mostRecentlyExecutedCommandWithImplicitDF": {
     "commandId": 1357331198218929,
     "dataframes": [
      "_sqldf"
     ]
    },
    "pythonIndentUnit": 4
   },
   "notebookName": "PROJETO_UBER",
   "widgets": {}
  }
 },
 "nbformat": 4,
 "nbformat_minor": 0
}
