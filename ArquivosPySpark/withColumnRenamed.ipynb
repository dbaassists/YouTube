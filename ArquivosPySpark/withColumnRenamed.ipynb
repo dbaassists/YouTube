{
 "cells": [
  {
   "cell_type": "code",
   "execution_count": 0,
   "metadata": {
    "application/vnd.databricks.v1+cell": {
     "cellMetadata": {
      "byteLimit": 2048000,
      "rowLimit": 10000
     },
     "inputWidgets": {},
     "nuid": "df401a5b-1f5e-43c7-9d68-3269704bcb00",
     "showTitle": false,
     "title": ""
    }
   },
   "outputs": [],
   "source": [
    "from pyspark.sql.types import *"
   ]
  },
  {
   "cell_type": "code",
   "execution_count": 0,
   "metadata": {
    "application/vnd.databricks.v1+cell": {
     "cellMetadata": {
      "byteLimit": 2048000,
      "rowLimit": 10000
     },
     "inputWidgets": {},
     "nuid": "01826fe2-fe46-47f3-807e-8dc6f4e87aa5",
     "showTitle": false,
     "title": ""
    }
   },
   "outputs": [],
   "source": [
    "dados = [\n",
    "('Gabriel Quintella','Fluminense')\n",
    ",('Rodolfo','Vasco')\n",
    ",('Gabriel Antunes','Flamengo')]\n",
    "\n",
    "schema = ['nome','time']\n",
    "\n",
    "df = spark.createDataFrame(data=dados, schema=schema)\n",
    "\n",
    "df.printSchema()\n",
    "\n",
    "df2 = df.withColumnRenamed('nome','nome_torcedor')\n",
    "\n",
    "df2.show()"
   ]
  },
  {
   "cell_type": "code",
   "execution_count": 0,
   "metadata": {
    "application/vnd.databricks.v1+cell": {
     "cellMetadata": {
      "byteLimit": 2048000,
      "rowLimit": 10000
     },
     "inputWidgets": {},
     "nuid": "0419ff4e-1df1-46e9-9fe9-e190ad77d9b4",
     "showTitle": false,
     "title": ""
    }
   },
   "outputs": [],
   "source": [
    "help(df.withColumnRenamed)"
   ]
  }
 ],
 "metadata": {
  "application/vnd.databricks.v1+notebook": {
   "dashboards": [],
   "language": "python",
   "notebookMetadata": {
    "pythonIndentUnit": 4
   },
   "notebookName": "withColumnRenamed",
   "widgets": {}
  }
 },
 "nbformat": 4,
 "nbformat_minor": 0
}
