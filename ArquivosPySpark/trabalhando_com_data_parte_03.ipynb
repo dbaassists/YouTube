{
 "cells": [
  {
   "cell_type": "code",
   "execution_count": 0,
   "metadata": {
    "application/vnd.databricks.v1+cell": {
     "cellMetadata": {
      "byteLimit": 2048000,
      "rowLimit": 10000
     },
     "inputWidgets": {},
     "nuid": "6a43118f-91dd-45f4-b063-ad7b99831d9f",
     "showTitle": false,
     "title": ""
    }
   },
   "outputs": [],
   "source": [
    "from pyspark.sql.functions import *"
   ]
  },
  {
   "cell_type": "code",
   "execution_count": 0,
   "metadata": {
    "application/vnd.databricks.v1+cell": {
     "cellMetadata": {
      "byteLimit": 2048000,
      "rowLimit": 10000
     },
     "inputWidgets": {},
     "nuid": "3ed5e6e2-936f-488b-9da8-be546f2ae26f",
     "showTitle": false,
     "title": ""
    }
   },
   "outputs": [
    {
     "output_type": "stream",
     "name": "stdout",
     "output_type": "stream",
     "text": [
      "+----------------+--------------+\n|            Nome|DataNascimento|\n+----------------+--------------+\n|            Fred|    1983-10-03|\n|         Romário|    1966-01-29|\n|Ronaldo Fenômeno|    1976-09-18|\n|    Jogador XPTO|    2023-06-01|\n+----------------+--------------+\n\n"
     ]
    }
   ],
   "source": [
    "dados = [('Fred','1983-10-03')\n",
    ",('Romário', '1966-01-29')\n",
    ",('Ronaldo Fenômeno', '1976-09-18')\n",
    ",('Jogador XPTO', '2023-06-01')]\n",
    "\n",
    "schema = ('Nome', 'DataNascimento')\n",
    "\n",
    "df = spark.createDataFrame(dados, schema =schema)\n",
    "\n",
    "df.show()"
   ]
  },
  {
   "cell_type": "code",
   "execution_count": 0,
   "metadata": {
    "application/vnd.databricks.v1+cell": {
     "cellMetadata": {
      "byteLimit": 2048000,
      "rowLimit": 10000
     },
     "inputWidgets": {},
     "nuid": "9c88f1a5-86af-40ce-9bf9-4aa98f29de54",
     "showTitle": false,
     "title": ""
    }
   },
   "outputs": [
    {
     "output_type": "stream",
     "name": "stdout",
     "output_type": "stream",
     "text": [
      "root\n |-- Nome: string (nullable = true)\n |-- DataNascimento: string (nullable = true)\n\n"
     ]
    }
   ],
   "source": [
    "df.printSchema()"
   ]
  },
  {
   "cell_type": "code",
   "execution_count": 0,
   "metadata": {
    "application/vnd.databricks.v1+cell": {
     "cellMetadata": {
      "byteLimit": 2048000,
      "rowLimit": 10000
     },
     "inputWidgets": {},
     "nuid": "00ae1491-3126-464b-bcc7-5bd0f2e48db4",
     "showTitle": false,
     "title": ""
    }
   },
   "outputs": [],
   "source": [
    "df = df.withColumn('DataNascimento' , to_date(df.DataNascimento))"
   ]
  },
  {
   "cell_type": "code",
   "execution_count": 0,
   "metadata": {
    "application/vnd.databricks.v1+cell": {
     "cellMetadata": {
      "byteLimit": 2048000,
      "rowLimit": 10000
     },
     "inputWidgets": {},
     "nuid": "84e234d6-7ab0-4569-ba01-cf5a5929722b",
     "showTitle": false,
     "title": ""
    }
   },
   "outputs": [
    {
     "output_type": "stream",
     "name": "stdout",
     "output_type": "stream",
     "text": [
      "+----------------+--------------+\n|            Nome|DataNascimento|\n+----------------+--------------+\n|            Fred|    1983-10-03|\n|         Romário|    1966-01-29|\n|Ronaldo Fenômeno|    1976-09-18|\n+----------------+--------------+\n\n"
     ]
    }
   ],
   "source": [
    "df.show()"
   ]
  },
  {
   "cell_type": "code",
   "execution_count": 0,
   "metadata": {
    "application/vnd.databricks.v1+cell": {
     "cellMetadata": {
      "byteLimit": 2048000,
      "rowLimit": 10000
     },
     "inputWidgets": {},
     "nuid": "aef91501-240c-47ff-92cd-966c23364090",
     "showTitle": false,
     "title": ""
    }
   },
   "outputs": [],
   "source": [
    "df = df.withColumn('DataCadastro' , current_date() )"
   ]
  },
  {
   "cell_type": "code",
   "execution_count": 0,
   "metadata": {
    "application/vnd.databricks.v1+cell": {
     "cellMetadata": {
      "byteLimit": 2048000,
      "rowLimit": 10000
     },
     "inputWidgets": {},
     "nuid": "4b8ab6c6-677b-43c6-98c7-4e6ddcf82385",
     "showTitle": false,
     "title": ""
    }
   },
   "outputs": [
    {
     "output_type": "stream",
     "name": "stdout",
     "output_type": "stream",
     "text": [
      "+----------------+--------------+------------+\n|            Nome|DataNascimento|DataCadastro|\n+----------------+--------------+------------+\n|            Fred|    1983-10-03|  2023-10-31|\n|         Romário|    1966-01-29|  2023-10-31|\n|Ronaldo Fenômeno|    1976-09-18|  2023-10-31|\n|    Jogador XPTO|    2023-10-01|  2023-10-31|\n+----------------+--------------+------------+\n\n"
     ]
    }
   ],
   "source": [
    "df.show()"
   ]
  },
  {
   "cell_type": "code",
   "execution_count": 0,
   "metadata": {
    "application/vnd.databricks.v1+cell": {
     "cellMetadata": {
      "byteLimit": 2048000,
      "rowLimit": 10000
     },
     "inputWidgets": {},
     "nuid": "d0dd5a39-8eae-43f5-b029-748f61c18e2f",
     "showTitle": false,
     "title": ""
    }
   },
   "outputs": [
    {
     "output_type": "stream",
     "name": "stdout",
     "output_type": "stream",
     "text": [
      "Help on function datediff in module pyspark.sql.functions:\n\ndatediff(end: 'ColumnOrName', start: 'ColumnOrName') -> pyspark.sql.column.Column\n    Returns the number of days from `start` to `end`.\n    \n    .. versionadded:: 1.5.0\n    \n    .. versionchanged:: 3.4.0\n        Support Spark Connect.\n    \n    Parameters\n    ----------\n    end : :class:`~pyspark.sql.Column` or str\n        to date column to work on.\n    start : :class:`~pyspark.sql.Column` or str\n        from date column to work on.\n    \n    Returns\n    -------\n    :class:`~pyspark.sql.Column`\n        difference in days between two dates.\n    \n    Examples\n    --------\n    >>> df = spark.createDataFrame([('2015-04-08','2015-05-10')], ['d1', 'd2'])\n    >>> df.select(datediff(df.d2, df.d1).alias('diff')).collect()\n    [Row(diff=32)]\n\n"
     ]
    }
   ],
   "source": [
    "help(datediff)"
   ]
  },
  {
   "cell_type": "code",
   "execution_count": 0,
   "metadata": {
    "application/vnd.databricks.v1+cell": {
     "cellMetadata": {
      "byteLimit": 2048000,
      "rowLimit": 10000
     },
     "inputWidgets": {},
     "nuid": "856a4af5-d1cd-420a-8391-394fda0ae6b2",
     "showTitle": false,
     "title": ""
    }
   },
   "outputs": [],
   "source": [
    "df = df.withColumn('DiferencaEmDias' , datediff( df.DataCadastro, df.DataNascimento ))"
   ]
  },
  {
   "cell_type": "code",
   "execution_count": 0,
   "metadata": {
    "application/vnd.databricks.v1+cell": {
     "cellMetadata": {
      "byteLimit": 2048000,
      "rowLimit": 10000
     },
     "inputWidgets": {},
     "nuid": "20d502c3-71d5-458c-a34a-5fc2eb6fe9c4",
     "showTitle": false,
     "title": ""
    }
   },
   "outputs": [
    {
     "output_type": "stream",
     "name": "stdout",
     "output_type": "stream",
     "text": [
      "Help on function months_between in module pyspark.sql.functions:\n\nmonths_between(date1: 'ColumnOrName', date2: 'ColumnOrName', roundOff: bool = True) -> pyspark.sql.column.Column\n    Returns number of months between dates date1 and date2.\n    If date1 is later than date2, then the result is positive.\n    A whole number is returned if both inputs have the same day of month or both are the last day\n    of their respective months. Otherwise, the difference is calculated assuming 31 days per month.\n    The result is rounded off to 8 digits unless `roundOff` is set to `False`.\n    \n    .. versionadded:: 1.5.0\n    \n    Parameters\n    ----------\n    date1 : :class:`~pyspark.sql.Column` or str\n        first date column.\n    date2 : :class:`~pyspark.sql.Column` or str\n        second date column.\n    roundOff : bool, optional\n        whether to round (to 8 digits) the final value or not (default: True).\n    \n    Returns\n    -------\n    :class:`~pyspark.sql.Column`\n        number of months between two dates.\n    \n    Examples\n    --------\n    >>> df = spark.createDataFrame([('1997-02-28 10:30:00', '1996-10-30')], ['date1', 'date2'])\n    >>> df.select(months_between(df.date1, df.date2).alias('months')).collect()\n    [Row(months=3.94959677)]\n    >>> df.select(months_between(df.date1, df.date2, False).alias('months')).collect()\n    [Row(months=3.9495967741935485)]\n\n"
     ]
    }
   ],
   "source": [
    "help(months_between)"
   ]
  },
  {
   "cell_type": "code",
   "execution_count": 0,
   "metadata": {
    "application/vnd.databricks.v1+cell": {
     "cellMetadata": {
      "byteLimit": 2048000,
      "rowLimit": 10000
     },
     "inputWidgets": {},
     "nuid": "52ff2bb2-df9d-4232-8dfd-41dcc84d67af",
     "showTitle": false,
     "title": ""
    }
   },
   "outputs": [],
   "source": [
    "df = df.withColumn('TotalDeMesesNoIntervalo' , months_between(df.DataCadastro , df.DataNascimento) )"
   ]
  },
  {
   "cell_type": "code",
   "execution_count": 0,
   "metadata": {
    "application/vnd.databricks.v1+cell": {
     "cellMetadata": {
      "byteLimit": 2048000,
      "rowLimit": 10000
     },
     "inputWidgets": {},
     "nuid": "007d05cf-62d3-4771-b710-df834ca456cb",
     "showTitle": false,
     "title": ""
    }
   },
   "outputs": [],
   "source": [
    "df = df.withColumn('DataFuturaADDDias' , date_add(df.DataNascimento , 10))"
   ]
  },
  {
   "cell_type": "code",
   "execution_count": 0,
   "metadata": {
    "application/vnd.databricks.v1+cell": {
     "cellMetadata": {
      "byteLimit": 2048000,
      "rowLimit": 10000
     },
     "inputWidgets": {},
     "nuid": "c7b412a0-ac48-46fe-aa91-55c1f45d82b3",
     "showTitle": false,
     "title": ""
    }
   },
   "outputs": [
    {
     "output_type": "stream",
     "name": "stdout",
     "output_type": "stream",
     "text": [
      "+----------------+--------------+------------+---------------+-----------------------+-----------------+\n|            Nome|DataNascimento|DataCadastro|DiferencaEmDias|TotalDeMesesNoIntervalo|DataFuturaADDDias|\n+----------------+--------------+------------+---------------+-----------------------+-----------------+\n|            Fred|    1983-10-03|  2023-10-31|          14638|           480.90322581|       1983-09-23|\n|         Romário|    1966-01-29|  2023-10-31|          21094|           693.06451613|       1966-01-19|\n|Ronaldo Fenômeno|    1976-09-18|  2023-10-31|          17209|           565.41935484|       1976-09-08|\n|    Jogador XPTO|    2023-06-01|  2023-10-31|            152|             4.96774194|       2023-05-22|\n+----------------+--------------+------------+---------------+-----------------------+-----------------+\n\n"
     ]
    }
   ],
   "source": [
    "df.withColumn('DataFuturaADDDias' , date_add(df.DataNascimento , -10))"
   ]
  },
  {
   "cell_type": "code",
   "execution_count": 0,
   "metadata": {
    "application/vnd.databricks.v1+cell": {
     "cellMetadata": {
      "byteLimit": 2048000,
      "rowLimit": 10000
     },
     "inputWidgets": {},
     "nuid": "3a760f6d-7b0c-4e1e-92d7-4b003aa4f55d",
     "showTitle": false,
     "title": ""
    }
   },
   "outputs": [],
   "source": [
    "df = df.withColumn('DataFuturaADDMeses', add_months(df.DataNascimento , 1))"
   ]
  }
 ],
 "metadata": {
  "application/vnd.databricks.v1+notebook": {
   "dashboards": [],
   "language": "python",
   "notebookMetadata": {
    "pythonIndentUnit": 4
   },
   "notebookName": "trabalhando_com_data_parte_03",
   "widgets": {}
  }
 },
 "nbformat": 4,
 "nbformat_minor": 0
}
