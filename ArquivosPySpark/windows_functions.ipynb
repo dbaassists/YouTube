{
 "cells": [
  {
   "cell_type": "code",
   "execution_count": 0,
   "metadata": {
    "application/vnd.databricks.v1+cell": {
     "cellMetadata": {
      "byteLimit": 2048000,
      "rowLimit": 10000
     },
     "inputWidgets": {},
     "nuid": "aabf7531-3054-44c5-ab50-625ced11d03b",
     "showTitle": false,
     "title": ""
    }
   },
   "outputs": [],
   "source": [
    "from pyspark.sql.window import Window\n",
    "from pyspark.sql.functions import *"
   ]
  },
  {
   "cell_type": "code",
   "execution_count": 0,
   "metadata": {
    "application/vnd.databricks.v1+cell": {
     "cellMetadata": {},
     "inputWidgets": {},
     "nuid": "c6f33ec0-92c0-46f0-8b54-9115199f0e7d",
     "showTitle": false,
     "title": ""
    }
   },
   "outputs": [],
   "source": [
    "row_number\n",
    "rank\n",
    "dense_rank"
   ]
  },
  {
   "cell_type": "code",
   "execution_count": 0,
   "metadata": {
    "application/vnd.databricks.v1+cell": {
     "cellMetadata": {
      "byteLimit": 2048000,
      "rowLimit": 10000
     },
     "inputWidgets": {},
     "nuid": "a150c80a-8ba1-47c1-a3c2-4388aff0c5d8",
     "showTitle": false,
     "title": ""
    }
   },
   "outputs": [
    {
     "output_type": "stream",
     "name": "stdout",
     "output_type": "stream",
     "text": [
      "+----------+------------------+----+\n|     Clube|            Titulo| Ano|\n+----------+------------------+----+\n|Fluminense|Campeonato Carioca|1906|\n|Fluminense|Campeonato Carioca|1907|\n|Fluminense|Campeonato Carioca|1908|\n|Fluminense|Campeonato Carioca|1909|\n|Fluminense|Campeonato Carioca|1911|\n|Fluminense|Campeonato Carioca|1917|\n|Fluminense|Campeonato Carioca|1918|\n|Fluminense|Campeonato Carioca|1919|\n|Fluminense|Campeonato Carioca|1924|\n|Fluminense|Campeonato Carioca|1936|\n|Fluminense|Campeonato Carioca|1937|\n|Fluminense|Campeonato Carioca|1938|\n|Fluminense|Campeonato Carioca|1940|\n|Fluminense|Campeonato Carioca|1941|\n|Fluminense|Campeonato Carioca|1946|\n|Fluminense|Campeonato Carioca|1951|\n|Fluminense|Campeonato Carioca|1959|\n|Fluminense|Campeonato Carioca|1964|\n|Fluminense|Campeonato Carioca|1969|\n|Fluminense|Campeonato Carioca|1971|\n+----------+------------------+----+\nonly showing top 20 rows\n\n"
     ]
    }
   ],
   "source": [
    "dados = [('Fluminense', 'Campeonato Carioca', 1906)\n",
    ",('Fluminense', 'Campeonato Carioca', 1907)\n",
    ",('Fluminense', 'Campeonato Carioca', 1908)\n",
    ",('Fluminense', 'Campeonato Carioca', 1909)\n",
    ",('Fluminense', 'Campeonato Carioca', 1911)\n",
    ",('Fluminense', 'Campeonato Carioca', 1917)\n",
    ",('Fluminense', 'Campeonato Carioca', 1918)\n",
    ",('Fluminense', 'Campeonato Carioca', 1919)\n",
    ",('Fluminense', 'Campeonato Carioca', 1924)\n",
    ",('Fluminense', 'Campeonato Carioca', 1936)\n",
    ",('Fluminense', 'Campeonato Carioca', 1937)\n",
    ",('Fluminense', 'Campeonato Carioca', 1938)\n",
    ",('Fluminense', 'Campeonato Carioca', 1940)\n",
    ",('Fluminense', 'Campeonato Carioca', 1941)\n",
    ",('Fluminense', 'Campeonato Carioca', 1946)\n",
    ",('Fluminense', 'Campeonato Carioca', 1951)\n",
    ",('Fluminense', 'Campeonato Carioca', 1959)\n",
    ",('Fluminense', 'Campeonato Carioca', 1964)\n",
    ",('Fluminense', 'Campeonato Carioca', 1969)\n",
    ",('Fluminense', 'Campeonato Carioca', 1971)\n",
    ",('Fluminense', 'Campeonato Carioca', 1973)\n",
    ",('Fluminense', 'Campeonato Carioca', 1975)\n",
    ",('Fluminense', 'Campeonato Carioca', 1976)\n",
    ",('Fluminense', 'Campeonato Carioca', 1980)\n",
    ",('Fluminense', 'Campeonato Carioca', 1983)\n",
    ",('Fluminense', 'Campeonato Carioca', 1984)\n",
    ",('Fluminense', 'Campeonato Carioca', 1985)\n",
    ",('Fluminense', 'Campeonato Carioca', 1995)\n",
    ",('Fluminense', 'Campeonato Carioca', 2002)\n",
    ",('Fluminense', 'Campeonato Carioca', 2005)\n",
    ",('Fluminense', 'Campeonato Carioca', 2012)\n",
    ",('Fluminense', 'Campeonato Carioca', 2022)\n",
    ",('Fluminense', 'Campeonato Carioca', 2023)\n",
    ",('Fluminense', 'Taça Guanabara', 1975)\n",
    ",('Fluminense', 'Taça Guanabara', 1983)\n",
    ",('Fluminense', 'Taça Guanabara', 1985)\n",
    ",('Fluminense', 'Taça Guanabara', 1991)\n",
    ",('Fluminense', 'Taça Guanabara', 1993)\n",
    ",('Fluminense', 'Taça Guanabara', 2012)\n",
    ",('Fluminense', 'Taça Guanabara', 2017)\n",
    ",('Fluminense', 'Taça Guanabara', 2022)\n",
    ",('Fluminense', 'Taça Guanabara', 2023)\n",
    ",('Fluminense', 'Campeonato Brasileiro' ,1970)\n",
    ",('Fluminense', 'Campeonato Brasileiro' ,1984)\n",
    ",('Fluminense', 'Campeonato Brasileiro' ,2010)\n",
    ",('Fluminense', 'Campeonato Brasileiro' ,2012)]\n",
    "\n",
    "schema = ('Clube', 'Titulo', 'Ano')\n",
    "\n",
    "df = spark.createDataFrame(dados, schema =schema)\n",
    "\n",
    "df.show()"
   ]
  },
  {
   "cell_type": "code",
   "execution_count": 0,
   "metadata": {
    "application/vnd.databricks.v1+cell": {
     "cellMetadata": {
      "byteLimit": 2048000,
      "rowLimit": 10000
     },
     "inputWidgets": {},
     "nuid": "9d03c1b9-e899-4519-84bc-c2735201c59c",
     "showTitle": false,
     "title": ""
    }
   },
   "outputs": [
    {
     "output_type": "stream",
     "name": "stdout",
     "output_type": "stream",
     "text": [
      "+----------+---------------------+----+---------------+\n|Clube     |Titulo               |Ano |OrdenacaoTitulo|\n+----------+---------------------+----+---------------+\n|Fluminense|Campeonato Brasileiro|2012|1              |\n|Fluminense|Campeonato Brasileiro|2010|2              |\n|Fluminense|Campeonato Brasileiro|1984|3              |\n|Fluminense|Campeonato Brasileiro|1970|4              |\n|Fluminense|Campeonato Carioca   |2023|1              |\n|Fluminense|Campeonato Carioca   |2022|2              |\n|Fluminense|Campeonato Carioca   |2012|3              |\n|Fluminense|Campeonato Carioca   |2005|4              |\n|Fluminense|Campeonato Carioca   |2002|5              |\n|Fluminense|Campeonato Carioca   |1995|6              |\n|Fluminense|Campeonato Carioca   |1985|7              |\n|Fluminense|Campeonato Carioca   |1984|8              |\n|Fluminense|Campeonato Carioca   |1983|9              |\n|Fluminense|Campeonato Carioca   |1980|10             |\n|Fluminense|Campeonato Carioca   |1976|11             |\n|Fluminense|Campeonato Carioca   |1975|12             |\n|Fluminense|Campeonato Carioca   |1973|13             |\n|Fluminense|Campeonato Carioca   |1971|14             |\n|Fluminense|Campeonato Carioca   |1969|15             |\n|Fluminense|Campeonato Carioca   |1964|16             |\n+----------+---------------------+----+---------------+\nonly showing top 20 rows\n\n"
     ]
    }
   ],
   "source": [
    "df.withColumn( 'OrdenacaoTitulo' ,  row_number().over(Window.partitionBy('Titulo').orderBy(desc('Ano')))).show(truncate=False)"
   ]
  },
  {
   "cell_type": "code",
   "execution_count": 0,
   "metadata": {
    "application/vnd.databricks.v1+cell": {
     "cellMetadata": {
      "byteLimit": 2048000,
      "rowLimit": 10000
     },
     "inputWidgets": {},
     "nuid": "02f9b15d-63b2-4aed-9369-99dcb93e3f62",
     "showTitle": false,
     "title": ""
    }
   },
   "outputs": [
    {
     "output_type": "stream",
     "name": "stdout",
     "output_type": "stream",
     "text": [
      "+----------+---------------------+----+---------------+\n|Clube     |Titulo               |Ano |OrdenacaoTitulo|\n+----------+---------------------+----+---------------+\n|Fluminense|Campeonato Brasileiro|2012|1              |\n|Fluminense|Campeonato Brasileiro|2010|2              |\n|Fluminense|Campeonato Brasileiro|1984|3              |\n|Fluminense|Campeonato Brasileiro|1970|4              |\n|Fluminense|Campeonato Carioca   |2023|1              |\n|Fluminense|Campeonato Carioca   |2022|2              |\n|Fluminense|Campeonato Carioca   |2012|3              |\n|Fluminense|Campeonato Carioca   |2005|4              |\n|Fluminense|Campeonato Carioca   |2002|5              |\n|Fluminense|Campeonato Carioca   |1995|6              |\n|Fluminense|Campeonato Carioca   |1985|7              |\n|Fluminense|Campeonato Carioca   |1984|8              |\n|Fluminense|Campeonato Carioca   |1983|9              |\n|Fluminense|Campeonato Carioca   |1980|10             |\n|Fluminense|Campeonato Carioca   |1976|11             |\n|Fluminense|Campeonato Carioca   |1975|12             |\n|Fluminense|Campeonato Carioca   |1973|13             |\n|Fluminense|Campeonato Carioca   |1971|14             |\n|Fluminense|Campeonato Carioca   |1969|15             |\n|Fluminense|Campeonato Carioca   |1964|16             |\n+----------+---------------------+----+---------------+\nonly showing top 20 rows\n\n"
     ]
    }
   ],
   "source": [
    "\n",
    "particionamento = Window.partitionBy('Titulo').orderBy(desc('Ano'))\n",
    "\n",
    "df.withColumn( 'OrdenacaoTitulo' ,  row_number().over(particionamento)).show(truncate=False)\n"
   ]
  },
  {
   "cell_type": "code",
   "execution_count": 0,
   "metadata": {
    "application/vnd.databricks.v1+cell": {
     "cellMetadata": {
      "byteLimit": 2048000,
      "rowLimit": 10000
     },
     "inputWidgets": {},
     "nuid": "52ce6759-e066-4573-97fe-c0c608f57d83",
     "showTitle": false,
     "title": ""
    }
   },
   "outputs": [
    {
     "output_type": "stream",
     "name": "stdout",
     "output_type": "stream",
     "text": [
      "+--------+---------+-------+--------+\n|Veiculo |Marca    |Modelo |Valor   |\n+--------+---------+-------+--------+\n|Classic |Chevrolet|Passeio|25500.0 |\n|Palio   |Fiat     |Passeio|25500.0 |\n|Corsa   |Chevrolet|Passeio|22000.0 |\n|Gol     |VW       |Passeio|29900.0 |\n|Renegade|Jeep     |SUV    |110000.0|\n|Duster  |Renault  |SUV    |110000.0|\n|HR-V    |Honda    |SUV    |119000.0|\n|Toro    |Fiat     |SUV    |125500.0|\n+--------+---------+-------+--------+\n\n"
     ]
    }
   ],
   "source": [
    "dados = [('Classic', 'Chevrolet', 'Passeio', 25500.00)\n",
    "         ,('Palio', 'Fiat', 'Passeio', 25500.00)\n",
    "         ,('Corsa', 'Chevrolet', 'Passeio', 22000.00)\n",
    "         ,('Gol', 'VW', 'Passeio', 29900.00)\n",
    "         ,('Renegade', 'Jeep', 'SUV', 110000.00)\n",
    "         ,('Duster','Renault', 'SUV', 110000.00)\n",
    "         ,('HR-V', 'Honda', 'SUV', 119000.00)\n",
    "         ,('Toro', 'Fiat', 'SUV',125500.00)\n",
    "]\n",
    "\n",
    "schema = ('Veiculo', 'Marca', 'Modelo', 'Valor')\n",
    "\n",
    "df = spark.createDataFrame(dados, schema =schema)\n",
    "\n",
    "df.show(truncate=False)\n"
   ]
  },
  {
   "cell_type": "code",
   "execution_count": 0,
   "metadata": {
    "application/vnd.databricks.v1+cell": {
     "cellMetadata": {
      "byteLimit": 2048000,
      "rowLimit": 10000
     },
     "inputWidgets": {},
     "nuid": "c9653d01-9522-47d4-822c-74059008d1d4",
     "showTitle": false,
     "title": ""
    }
   },
   "outputs": [
    {
     "output_type": "stream",
     "name": "stdout",
     "output_type": "stream",
     "text": [
      "+--------+---------+-------+--------+-----------------+\n|Veiculo |Marca    |Modelo |Valor   |OrdenacaoPorValor|\n+--------+---------+-------+--------+-----------------+\n|Corsa   |Chevrolet|Passeio|22000.0 |1                |\n|Classic |Chevrolet|Passeio|25500.0 |2                |\n|Palio   |Fiat     |Passeio|25500.0 |3                |\n|Gol     |VW       |Passeio|29900.0 |4                |\n|Renegade|Jeep     |SUV    |110000.0|1                |\n|Duster  |Renault  |SUV    |110000.0|2                |\n|HR-V    |Honda    |SUV    |119000.0|3                |\n|Toro    |Fiat     |SUV    |125500.0|4                |\n+--------+---------+-------+--------+-----------------+\n\n"
     ]
    }
   ],
   "source": [
    "df.withColumn('OrdenacaoPorValor' ,  row_number().over(Window.partitionBy('Modelo').orderBy('Valor')) ).show(truncate=False)"
   ]
  },
  {
   "cell_type": "code",
   "execution_count": 0,
   "metadata": {
    "application/vnd.databricks.v1+cell": {
     "cellMetadata": {
      "byteLimit": 2048000,
      "rowLimit": 10000
     },
     "inputWidgets": {},
     "nuid": "c609925e-18fb-4d9a-ade2-84ddec83d274",
     "showTitle": false,
     "title": ""
    }
   },
   "outputs": [
    {
     "output_type": "stream",
     "name": "stdout",
     "output_type": "stream",
     "text": [
      "+--------+---------+-------+--------+----+\n|Veiculo |Marca    |Modelo |Valor   |Rank|\n+--------+---------+-------+--------+----+\n|Corsa   |Chevrolet|Passeio|22000.0 |1   |\n|Classic |Chevrolet|Passeio|25500.0 |2   |\n|Palio   |Fiat     |Passeio|25500.0 |2   |\n|Gol     |VW       |Passeio|29900.0 |4   |\n|Renegade|Jeep     |SUV    |110000.0|1   |\n|Duster  |Renault  |SUV    |110000.0|1   |\n|HR-V    |Honda    |SUV    |119000.0|3   |\n|Toro    |Fiat     |SUV    |125500.0|4   |\n+--------+---------+-------+--------+----+\n\n"
     ]
    }
   ],
   "source": [
    "df.withColumn('Rank' ,  rank().over(Window.partitionBy('Modelo').orderBy('Valor')) ).show(truncate=False)"
   ]
  },
  {
   "cell_type": "code",
   "execution_count": 0,
   "metadata": {
    "application/vnd.databricks.v1+cell": {
     "cellMetadata": {
      "byteLimit": 2048000,
      "rowLimit": 10000
     },
     "inputWidgets": {},
     "nuid": "6b69b721-717b-48fe-b413-47062a18c143",
     "showTitle": false,
     "title": ""
    }
   },
   "outputs": [
    {
     "output_type": "stream",
     "name": "stdout",
     "output_type": "stream",
     "text": [
      "+--------+---------+-------+--------+---------+\n|Veiculo |Marca    |Modelo |Valor   |DenseRank|\n+--------+---------+-------+--------+---------+\n|Corsa   |Chevrolet|Passeio|22000.0 |1        |\n|Classic |Chevrolet|Passeio|25500.0 |2        |\n|Palio   |Fiat     |Passeio|25500.0 |2        |\n|Gol     |VW       |Passeio|29900.0 |3        |\n|Renegade|Jeep     |SUV    |110000.0|1        |\n|Duster  |Renault  |SUV    |110000.0|1        |\n|HR-V    |Honda    |SUV    |119000.0|2        |\n|Toro    |Fiat     |SUV    |125500.0|3        |\n+--------+---------+-------+--------+---------+\n\n"
     ]
    }
   ],
   "source": [
    "df.withColumn('DenseRank' ,  dense_rank().over(Window.partitionBy('Modelo').orderBy('Valor')) ).show(truncate=False)"
   ]
  }
 ],
 "metadata": {
  "application/vnd.databricks.v1+notebook": {
   "dashboards": [],
   "language": "python",
   "notebookMetadata": {
    "pythonIndentUnit": 4
   },
   "notebookName": "windows_functions",
   "widgets": {}
  }
 },
 "nbformat": 4,
 "nbformat_minor": 0
}
