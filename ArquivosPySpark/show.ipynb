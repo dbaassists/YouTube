{
 "cells": [
  {
   "cell_type": "code",
   "execution_count": 0,
   "metadata": {
    "application/vnd.databricks.v1+cell": {
     "cellMetadata": {
      "byteLimit": 2048000,
      "rowLimit": 10000
     },
     "inputWidgets": {},
     "nuid": "90e34529-d095-44df-a55e-c7c55a35a1ac",
     "showTitle": false,
     "title": ""
    }
   },
   "outputs": [],
   "source": [
    "from pyspark.sql.types import *"
   ]
  },
  {
   "cell_type": "code",
   "execution_count": 0,
   "metadata": {
    "application/vnd.databricks.v1+cell": {
     "cellMetadata": {
      "byteLimit": 2048000,
      "rowLimit": 10000
     },
     "inputWidgets": {},
     "nuid": "670e56aa-db38-4aa7-abe6-05f6cda8a32a",
     "showTitle": false,
     "title": ""
    }
   },
   "outputs": [],
   "source": [
    "dados = [(1,'Ronaldo Fenômeno','Ronaldo Luís Nazário de Lima, popularmente conhecido como Ronaldo Fenômeno, é um empresário e ex-futebolista brasileiro.')\n",
    "         ,(2,'Roberto Carlos','Roberto Carlos da Silva Rocha é um ex-futebolista brasileiro que atuava como lateral-esquerdo.')\n",
    "         ,(3,'Romário','Romário de Souza Faria é um político e ex-futebolista brasileiro que atuava como centroavante.')\n",
    "         ,(4,'Fred','Frederico Chaves Guedes, mais conhecido como Fred, é um ex-futebolista brasileiro que atuava como centroavante.')\n",
    "         ,(1,'Ronaldo Fenômeno','Ronaldo Luís Nazário de Lima, popularmente conhecido como Ronaldo Fenômeno, é um empresário e ex-futebolista brasileiro.')\n",
    "         ,(2,'Roberto Carlos','Roberto Carlos da Silva Rocha é um ex-futebolista brasileiro que atuava como lateral-esquerdo.')\n",
    "         ,(3,'Romário','Romário de Souza Faria é um político e ex-futebolista brasileiro que atuava como centroavante.')\n",
    "         ,(4,'Fred','Frederico Chaves Guedes, mais conhecido como Fred, é um ex-futebolista brasileiro que atuava como centroavante.')\n",
    "         ,(1,'Ronaldo Fenômeno','Ronaldo Luís Nazário de Lima, popularmente conhecido como Ronaldo Fenômeno, é um empresário e ex-futebolista brasileiro.')\n",
    "         ,(2,'Roberto Carlos','Roberto Carlos da Silva Rocha é um ex-futebolista brasileiro que atuava como lateral-esquerdo.')\n",
    "         ,(3,'Romário','Romário de Souza Faria é um político e ex-futebolista brasileiro que atuava como centroavante.')\n",
    "         ,(4,'Fred','Frederico Chaves Guedes, mais conhecido como Fred, é um ex-futebolista brasileiro que atuava como centroavante.')\n",
    "         ,(1,'Ronaldo Fenômeno','Ronaldo Luís Nazário de Lima, popularmente conhecido como Ronaldo Fenômeno, é um empresário e ex-futebolista brasileiro.')\n",
    "         ,(2,'Roberto Carlos','Roberto Carlos da Silva Rocha é um ex-futebolista brasileiro que atuava como lateral-esquerdo.')\n",
    "         ,(3,'Romário','Romário de Souza Faria é um político e ex-futebolista brasileiro que atuava como centroavante.')\n",
    "         ,(4,'Fred','Frederico Chaves Guedes, mais conhecido como Fred, é um ex-futebolista brasileiro que atuava como centroavante.')\n",
    "         ,(1,'Ronaldo Fenômeno','Ronaldo Luís Nazário de Lima, popularmente conhecido como Ronaldo Fenômeno, é um empresário e ex-futebolista brasileiro.')\n",
    "         ,(2,'Roberto Carlos','Roberto Carlos da Silva Rocha é um ex-futebolista brasileiro que atuava como lateral-esquerdo.')\n",
    "         ,(3,'Romário','Romário de Souza Faria é um político e ex-futebolista brasileiro que atuava como centroavante.')\n",
    "         ,(4,'Fred','Frederico Chaves Guedes, mais conhecido como Fred, é um ex-futebolista brasileiro que atuava como centroavante.')\n",
    "         ,(1,'Ronaldo Fenômeno','Ronaldo Luís Nazário de Lima, popularmente conhecido como Ronaldo Fenômeno, é um empresário e ex-futebolista brasileiro.')\n",
    "         ,(2,'Roberto Carlos','Roberto Carlos da Silva Rocha é um ex-futebolista brasileiro que atuava como lateral-esquerdo.')\n",
    "         ,(3,'Romário','Romário de Souza Faria é um político e ex-futebolista brasileiro que atuava como centroavante.')\n",
    "         ,(4,'Fred','Frederico Chaves Guedes, mais conhecido como Fred, é um ex-futebolista brasileiro que atuava como centroavante.')\n",
    "         ,(1,'Ronaldo Fenômeno','Ronaldo Luís Nazário de Lima, popularmente conhecido como Ronaldo Fenômeno, é um empresário e ex-futebolista brasileiro.')\n",
    "         ,(2,'Roberto Carlos','Roberto Carlos da Silva Rocha é um ex-futebolista brasileiro que atuava como lateral-esquerdo.')\n",
    "         ,(3,'Romário','Romário de Souza Faria é um político e ex-futebolista brasileiro que atuava como centroavante.')\n",
    "         ,(4,'Fred','Frederico Chaves Guedes, mais conhecido como Fred, é um ex-futebolista brasileiro que atuava como centroavante.')\n",
    "         ,(1,'Ronaldo Fenômeno','Ronaldo Luís Nazário de Lima, popularmente conhecido como Ronaldo Fenômeno, é um empresário e ex-futebolista brasileiro.')\n",
    "         ,(2,'Roberto Carlos','Roberto Carlos da Silva Rocha é um ex-futebolista brasileiro que atuava como lateral-esquerdo.')\n",
    "         ,(3,'Romário','Romário de Souza Faria é um político e ex-futebolista brasileiro que atuava como centroavante.')\n",
    "         ,(4,'Fred','Frederico Chaves Guedes, mais conhecido como Fred, é um ex-futebolista brasileiro que atuava como centroavante.')\n",
    "         ]\n",
    "\n",
    "schema = ['id','jogador','comentario']\n",
    "\n",
    "df = spark.createDataFrame(data=dados, schema=schema)\n",
    "\n",
    "df.show(truncate=False, vertical=True)\n"
   ]
  },
  {
   "cell_type": "code",
   "execution_count": 0,
   "metadata": {
    "application/vnd.databricks.v1+cell": {
     "cellMetadata": {
      "byteLimit": 2048000,
      "rowLimit": 10000
     },
     "inputWidgets": {},
     "nuid": "971b77ae-29cb-4713-b97a-7d935cd05bb5",
     "showTitle": false,
     "title": ""
    }
   },
   "outputs": [],
   "source": [
    "help(df.show)"
   ]
  }
 ],
 "metadata": {
  "application/vnd.databricks.v1+notebook": {
   "dashboards": [],
   "language": "python",
   "notebookMetadata": {
    "pythonIndentUnit": 4
   },
   "notebookName": "show",
   "widgets": {}
  }
 },
 "nbformat": 4,
 "nbformat_minor": 0
}
