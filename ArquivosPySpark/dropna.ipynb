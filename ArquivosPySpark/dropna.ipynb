{
 "cells": [
  {
   "cell_type": "code",
   "execution_count": 0,
   "metadata": {
    "application/vnd.databricks.v1+cell": {
     "cellMetadata": {
      "byteLimit": 2048000,
      "rowLimit": 10000
     },
     "inputWidgets": {},
     "nuid": "0134c01b-df60-4fa1-b649-0de1f7fb6905",
     "showTitle": false,
     "title": ""
    }
   },
   "outputs": [],
   "source": [
    "#pip install faker"
   ]
  },
  {
   "cell_type": "code",
   "execution_count": 0,
   "metadata": {
    "application/vnd.databricks.v1+cell": {
     "cellMetadata": {
      "byteLimit": 2048000,
      "rowLimit": 10000
     },
     "inputWidgets": {},
     "nuid": "82464263-d321-40dc-a3dc-9d2c27541873",
     "showTitle": false,
     "title": ""
    }
   },
   "outputs": [],
   "source": [
    "from faker import Faker\n",
    "import pandas as pd\n",
    "from datetime import datetime\n",
    "from pandas import DataFrame\n",
    "import numpy as np\n",
    "from pyspark.sql.functions import *"
   ]
  },
  {
   "cell_type": "code",
   "execution_count": 0,
   "metadata": {
    "application/vnd.databricks.v1+cell": {
     "cellMetadata": {
      "byteLimit": 2048000,
      "rowLimit": 10000
     },
     "inputWidgets": {},
     "nuid": "1bb91a45-6796-440c-b7f1-5a388a507bd5",
     "showTitle": false,
     "title": ""
    }
   },
   "outputs": [],
   "source": [
    "def geracao_dados_fake(qtd_rows: int = 100, locale: str = \"pt_BR\") -> DataFrame:\n",
    "\n",
    "    data_atual = datetime.now()\n",
    "    local_faker = Faker(locale)\n",
    "    list_result = []\n",
    "    for _ in range(qtd_rows):\n",
    "        data_nascimento = local_faker.date()\n",
    "        dict_result = {\n",
    "            \"Nome\": local_faker.name(),\n",
    "            \"NomOcupacao\": local_faker.job(),\n",
    "            \"NomCidade\": local_faker.country(),\n",
    "            \"NumTelefone\": local_faker.phone_number(),\n",
    "            \"NomEmail\": local_faker.ascii_email(),\n",
    "            \"DataNascimento\": str(data_nascimento),\n",
    "            'NumIdade': (data_atual.date() - datetime.strptime(data_nascimento, \"%Y-%m-%d\").date()).days //365\n",
    "        }\n",
    "        list_result.append(dict_result)\n",
    "\n",
    "    return pd.DataFrame(list_result)"
   ]
  },
  {
   "cell_type": "code",
   "execution_count": 0,
   "metadata": {
    "application/vnd.databricks.v1+cell": {
     "cellMetadata": {
      "byteLimit": 2048000,
      "rowLimit": 10000
     },
     "inputWidgets": {},
     "nuid": "f700bc01-110d-4334-8189-46ebd04e818e",
     "showTitle": false,
     "title": ""
    }
   },
   "outputs": [],
   "source": [
    "dfDadosFake = geracao_dados_fake(10000)"
   ]
  },
  {
   "cell_type": "code",
   "execution_count": 0,
   "metadata": {
    "application/vnd.databricks.v1+cell": {
     "cellMetadata": {
      "byteLimit": 2048000,
      "rowLimit": 10000
     },
     "inputWidgets": {},
     "nuid": "f2f223b9-9dca-43bd-9635-a7e74a65f604",
     "showTitle": false,
     "title": ""
    }
   },
   "outputs": [
    {
     "output_type": "stream",
     "name": "stdout",
     "output_type": "stream",
     "text": [
      "<class 'pandas.core.frame.DataFrame'>\nRangeIndex: 10000 entries, 0 to 9999\nData columns (total 7 columns):\n #   Column          Non-Null Count  Dtype \n---  ------          --------------  ----- \n 0   Nome            10000 non-null  object\n 1   NomOcupacao     10000 non-null  object\n 2   NomCidade       10000 non-null  object\n 3   NumTelefone     10000 non-null  object\n 4   NomEmail        10000 non-null  object\n 5   DataNascimento  10000 non-null  object\n 6   NumIdade        10000 non-null  int64 \ndtypes: int64(1), object(6)\nmemory usage: 547.0+ KB\n"
     ]
    }
   ],
   "source": [
    "dfDadosFake.info()"
   ]
  },
  {
   "cell_type": "code",
   "execution_count": 0,
   "metadata": {
    "application/vnd.databricks.v1+cell": {
     "cellMetadata": {
      "byteLimit": 2048000,
      "rowLimit": 10000
     },
     "inputWidgets": {},
     "nuid": "18d44016-fad0-41be-8e2c-b3b6c1ff9e43",
     "showTitle": false,
     "title": ""
    }
   },
   "outputs": [
    {
     "output_type": "stream",
     "name": "stderr",
     "output_type": "stream",
     "text": [
      "<command-3348275025660789>:11: SettingWithCopyWarning: \nA value is trying to be set on a copy of a slice from a DataFrame\n\nSee the caveats in the documentation: https://pandas.pydata.org/pandas-docs/stable/user_guide/indexing.html#returning-a-view-versus-a-copy\n  dfDadosFake[coluna][i] = np.nan\n"
     ]
    }
   ],
   "source": [
    "num_linhas = 200\n",
    "\n",
    "indices_aleatorios = np.random.choice(dfDadosFake.index, size=num_linhas, replace=False)\n",
    "\n",
    "for i in indices_aleatorios:\n",
    "\n",
    "    colunas_para_alterar = np.random.choice(['NomOcupacao','NomCidade'], size=2)\n",
    "\n",
    "    for coluna in colunas_para_alterar:\n",
    "\n",
    "        dfDadosFake[coluna][i] = np.nan"
   ]
  },
  {
   "cell_type": "code",
   "execution_count": 0,
   "metadata": {
    "application/vnd.databricks.v1+cell": {
     "cellMetadata": {
      "byteLimit": 2048000,
      "rowLimit": 10000
     },
     "inputWidgets": {},
     "nuid": "0259b23c-2f2e-46fb-bf68-0ad1b09bd973",
     "showTitle": false,
     "title": ""
    }
   },
   "outputs": [
    {
     "output_type": "stream",
     "name": "stdout",
     "output_type": "stream",
     "text": [
      "<class 'pandas.core.frame.DataFrame'>\nRangeIndex: 10000 entries, 0 to 9999\nData columns (total 7 columns):\n #   Column          Non-Null Count  Dtype \n---  ------          --------------  ----- \n 0   Nome            10000 non-null  object\n 1   NomOcupacao     9862 non-null   object\n 2   NomCidade       9840 non-null   object\n 3   NumTelefone     10000 non-null  object\n 4   NomEmail        10000 non-null  object\n 5   DataNascimento  10000 non-null  object\n 6   NumIdade        10000 non-null  int64 \ndtypes: int64(1), object(6)\nmemory usage: 547.0+ KB\n"
     ]
    }
   ],
   "source": [
    "dfDadosFake.info()"
   ]
  },
  {
   "cell_type": "code",
   "execution_count": 0,
   "metadata": {
    "application/vnd.databricks.v1+cell": {
     "cellMetadata": {
      "byteLimit": 2048000,
      "rowLimit": 10000
     },
     "inputWidgets": {},
     "nuid": "fe47386e-3c48-4078-a5d2-b2c66a1e47ce",
     "showTitle": false,
     "title": ""
    }
   },
   "outputs": [],
   "source": [
    "dfspark  = spark.createDataFrame(dfDadosFake)"
   ]
  },
  {
   "cell_type": "code",
   "execution_count": 0,
   "metadata": {
    "application/vnd.databricks.v1+cell": {
     "cellMetadata": {
      "byteLimit": 2048000,
      "rowLimit": 10000
     },
     "inputWidgets": {},
     "nuid": "9875b3ca-03a5-4ed4-bd5c-2a9c6b53bb4d",
     "showTitle": false,
     "title": ""
    }
   },
   "outputs": [
    {
     "output_type": "stream",
     "name": "stdout",
     "output_type": "stream",
     "text": [
      "Out[36]: pyspark.sql.dataframe.DataFrame"
     ]
    }
   ],
   "source": [
    "type(dfspark)"
   ]
  },
  {
   "cell_type": "code",
   "execution_count": 0,
   "metadata": {
    "application/vnd.databricks.v1+cell": {
     "cellMetadata": {
      "byteLimit": 2048000,
      "rowLimit": 10000
     },
     "inputWidgets": {},
     "nuid": "208cc4c8-8105-48d7-b885-c63f5a329088",
     "showTitle": false,
     "title": ""
    }
   },
   "outputs": [],
   "source": [
    "null_counts = dfspark.select([sum(col(c).isNull().cast(\"int\")).alias(c) for c in dfspark.columns])"
   ]
  },
  {
   "cell_type": "code",
   "execution_count": 0,
   "metadata": {
    "application/vnd.databricks.v1+cell": {
     "cellMetadata": {
      "byteLimit": 2048000,
      "rowLimit": 10000
     },
     "inputWidgets": {},
     "nuid": "e178d016-5eeb-48b0-a8e2-7cdf786e3c03",
     "showTitle": false,
     "title": ""
    }
   },
   "outputs": [
    {
     "output_type": "display_data",
     "data": {
      "text/html": [
       "<style scoped>\n",
       "  .table-result-container {\n",
       "    max-height: 300px;\n",
       "    overflow: auto;\n",
       "  }\n",
       "  table, th, td {\n",
       "    border: 1px solid black;\n",
       "    border-collapse: collapse;\n",
       "  }\n",
       "  th, td {\n",
       "    padding: 5px;\n",
       "  }\n",
       "  th {\n",
       "    text-align: left;\n",
       "  }\n",
       "</style><div class='table-result-container'><table class='table-result'><thead style='background-color: white'><tr><th>Nome</th><th>NomOcupacao</th><th>NomCidade</th><th>NumTelefone</th><th>NomEmail</th><th>DataNascimento</th><th>NumIdade</th></tr></thead><tbody><tr><td>0</td><td>138</td><td>160</td><td>0</td><td>0</td><td>0</td><td>0</td></tr></tbody></table></div>"
      ]
     },
     "metadata": {
      "application/vnd.databricks.v1+output": {
       "addedWidgets": {},
       "aggData": [],
       "aggError": "",
       "aggOverflow": false,
       "aggSchema": [],
       "aggSeriesLimitReached": false,
       "aggType": "",
       "arguments": {},
       "columnCustomDisplayInfos": {},
       "data": [
        [
         0,
         138,
         160,
         0,
         0,
         0,
         0
        ]
       ],
       "datasetInfos": [],
       "dbfsResultPath": null,
       "isJsonSchema": true,
       "metadata": {},
       "overflow": false,
       "plotOptions": {
        "customPlotOptions": {},
        "displayType": "table",
        "pivotAggregation": null,
        "pivotColumns": null,
        "xColumns": null,
        "yColumns": null
       },
       "removedWidgets": [],
       "schema": [
        {
         "metadata": "{}",
         "name": "Nome",
         "type": "\"long\""
        },
        {
         "metadata": "{}",
         "name": "NomOcupacao",
         "type": "\"long\""
        },
        {
         "metadata": "{}",
         "name": "NomCidade",
         "type": "\"long\""
        },
        {
         "metadata": "{}",
         "name": "NumTelefone",
         "type": "\"long\""
        },
        {
         "metadata": "{}",
         "name": "NomEmail",
         "type": "\"long\""
        },
        {
         "metadata": "{}",
         "name": "DataNascimento",
         "type": "\"long\""
        },
        {
         "metadata": "{}",
         "name": "NumIdade",
         "type": "\"long\""
        }
       ],
       "type": "table"
      }
     },
     "output_type": "display_data"
    }
   ],
   "source": [
    "display(null_counts)"
   ]
  },
  {
   "cell_type": "code",
   "execution_count": 0,
   "metadata": {
    "application/vnd.databricks.v1+cell": {
     "cellMetadata": {
      "byteLimit": 2048000,
      "rowLimit": 10000
     },
     "inputWidgets": {},
     "nuid": "8830825c-9b94-4dc4-8260-d07a40564042",
     "showTitle": false,
     "title": ""
    }
   },
   "outputs": [
    {
     "output_type": "stream",
     "name": "stdout",
     "output_type": "stream",
     "text": [
      "+-----------------------+--------------------------+--------------------------------+-------------------+-------------------------------+--------------+--------+\n|Nome                   |NomOcupacao               |NomCidade                       |NumTelefone        |NomEmail                       |DataNascimento|NumIdade|\n+-----------------------+--------------------------+--------------------------------+-------------------+-------------------------------+--------------+--------+\n|Srta. Ana Vitória Ramos|Confeiteiro               |Mauritânia                      |0800-911-5967      |diaspedro@cardoso.br           |2012-03-25    |11      |\n|Letícia Alves          |Matemático                |Austrália                       |51 8642 1612       |joao-miguel63@nogueira.com     |2008-06-23    |15      |\n|Srta. Isadora da Costa |Procurador de justiça     |Singapura                       |(031) 8872 0458    |duartepedro@freitas.br         |2013-09-08    |10      |\n|Thiago Fernandes       |Cumim                     |Navassa Island                  |(081) 4407-3512    |camposmaria-sophia@yahoo.com.br|1981-11-11    |41      |\n|Milena Porto           |Bancário                  |Costa Rica                      |71 8970-8921       |eloahmendes@bol.com.br         |2005-04-11    |18      |\n|Yuri Jesus             |Metalúrgico               |Usbequistão                     |71 9248 0141       |bruno68@cardoso.br             |2014-05-26    |9       |\n|Joana Santos           |Designer gráfico          |Iêmen                           |+55 (041) 1331-1596|bryanrodrigues@cunha.net       |2022-02-18    |1       |\n|Srta. Lorena da Luz    |Enólogo                   |Bélgica                         |(061) 7397-3576    |qcunha@almeida.br              |1992-11-12    |30      |\n|Pedro Barros           |Piloto de avião           |Jersey                          |(051) 1821-4405    |joao-miguelda-rocha@ig.com.br  |1979-01-06    |44      |\n|Pietro da Cruz         |Leiloeiro                 |Turquia                         |51 5269 7768       |alexiacardoso@hotmail.com      |1990-12-18    |32      |\n|Luiz Felipe Moreira    |Babysitter                |Geórgia do Sul e Sandwich do Sul|(081) 8961 3301    |umoraes@martins.org            |1985-08-22    |38      |\n|Isabel Lopes           |Confeiteiro               |Ucrânia                         |+55 (041) 8885-5942|antoniorodrigues@yahoo.com.br  |2022-10-26    |0       |\n|Vinicius Porto         |Repórter                  |Akrotiri                        |(021) 3420 5939    |joao-guilhermebarbosa@araujo.br|2010-01-29    |13      |\n|Dr. Bruno Viana        |Engenheiro civil          |Suazilândia                     |(031) 7029-8153    |sjesus@gmail.com               |1972-07-27    |51      |\n|João Lucas Novaes      |Auxiliar de reprografia   |Suazilândia                     |(041) 9111-9156    |piresmarcelo@rezende.com       |1991-09-13    |32      |\n|Vitor Pinto            |Judoca                    |Índia                           |(041) 6211-2699    |hmoura@ig.com.br               |1995-02-20    |28      |\n|Sr. Igor Oliveira      |Líder comunitário         |Svalbard e Jan Mayen            |(061) 7806 6518    |agathasouza@ferreira.net       |1991-12-09    |31      |\n|Alícia Pereira         |Profissional de reciclagem|Ilhas Falkland                  |+55 (051) 1723-1166|da-rosaraquel@ig.com.br        |2015-08-01    |8       |\n|Olivia Moreira         |Jogador de basquete       |Líbano                          |(061) 6060-2520    |danielalmeida@pinto.br         |1996-10-18    |27      |\n|Isadora Farias         |Apontador de mão-de-obra  |Trindade e Tobago               |+55 21 6979 1955   |clara21@da.com                 |1995-07-26    |28      |\n+-----------------------+--------------------------+--------------------------------+-------------------+-------------------------------+--------------+--------+\nonly showing top 20 rows\n\n"
     ]
    }
   ],
   "source": [
    "dfspark.dropna(subset=['NomOcupacao']).show(truncate=False)"
   ]
  },
  {
   "cell_type": "code",
   "execution_count": 0,
   "metadata": {
    "application/vnd.databricks.v1+cell": {
     "cellMetadata": {
      "byteLimit": 2048000,
      "rowLimit": 10000
     },
     "inputWidgets": {},
     "nuid": "ee18311c-c160-470f-a346-89dcfa5270a7",
     "showTitle": false,
     "title": ""
    }
   },
   "outputs": [
    {
     "output_type": "stream",
     "name": "stdout",
     "output_type": "stream",
     "text": [
      "Out[40]: 9800"
     ]
    }
   ],
   "source": [
    "dfspark.dropna().count()"
   ]
  },
  {
   "cell_type": "code",
   "execution_count": 0,
   "metadata": {
    "application/vnd.databricks.v1+cell": {
     "cellMetadata": {
      "byteLimit": 2048000,
      "rowLimit": 10000
     },
     "inputWidgets": {},
     "nuid": "55877a5d-837a-41c1-a820-7591bf025829",
     "showTitle": false,
     "title": ""
    }
   },
   "outputs": [
    {
     "output_type": "stream",
     "name": "stdout",
     "output_type": "stream",
     "text": [
      "Out[41]: 9862"
     ]
    }
   ],
   "source": [
    "dfspark.na.drop(subset=['NomOcupacao']).count()"
   ]
  },
  {
   "cell_type": "code",
   "execution_count": 0,
   "metadata": {
    "application/vnd.databricks.v1+cell": {
     "cellMetadata": {
      "byteLimit": 2048000,
      "rowLimit": 10000
     },
     "inputWidgets": {},
     "nuid": "093399b9-f6ca-4243-9fb7-7aefc1ee6cd7",
     "showTitle": false,
     "title": ""
    }
   },
   "outputs": [
    {
     "output_type": "stream",
     "name": "stdout",
     "output_type": "stream",
     "text": [
      "Out[42]: 9800"
     ]
    }
   ],
   "source": [
    "dfspark.na.drop().count()"
   ]
  }
 ],
 "metadata": {
  "application/vnd.databricks.v1+notebook": {
   "dashboards": [],
   "language": "python",
   "notebookMetadata": {
    "pythonIndentUnit": 4
   },
   "notebookName": "dropna",
   "widgets": {}
  }
 },
 "nbformat": 4,
 "nbformat_minor": 0
}
