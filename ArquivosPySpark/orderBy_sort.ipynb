{
 "cells": [
  {
   "cell_type": "code",
   "execution_count": 0,
   "metadata": {
    "application/vnd.databricks.v1+cell": {
     "cellMetadata": {
      "byteLimit": 2048000,
      "rowLimit": 10000
     },
     "inputWidgets": {},
     "nuid": "67b1ba2a-7f8f-47e9-8930-96ba3b10c2b3",
     "showTitle": true,
     "title": "00 - Importando Bibliotecas"
    }
   },
   "outputs": [],
   "source": [
    "import pandas as pd\n",
    "from pyspark.sql import SparkSession\n",
    "from pyspark.sql.functions import *\n",
    "from pyspark.sql.types import * #StructType, StructField, StringType\n",
    "\n",
    "spark = SparkSession.builder.appName(\"ingestao-pyspark-csv\").getOrCreate()"
   ]
  },
  {
   "cell_type": "code",
   "execution_count": 0,
   "metadata": {
    "application/vnd.databricks.v1+cell": {
     "cellMetadata": {
      "byteLimit": 2048000,
      "rowLimit": 10000
     },
     "inputWidgets": {},
     "nuid": "12e7a916-f4d8-4856-8408-e85e484a55d1",
     "showTitle": true,
     "title": "00.1 - Importando Biblioteca Adicional"
    }
   },
   "outputs": [],
   "source": [
    "%run /estudos/libs/bibliotecas "
   ]
  },
  {
   "cell_type": "code",
   "execution_count": 0,
   "metadata": {
    "application/vnd.databricks.v1+cell": {
     "cellMetadata": {
      "byteLimit": 2048000,
      "rowLimit": 10000
     },
     "inputWidgets": {},
     "nuid": "852b3a07-378e-41c0-87d7-8dacc18c0550",
     "showTitle": true,
     "title": "01 - Importando o DataFrame"
    }
   },
   "outputs": [],
   "source": [
    "arquivo = 'https://raw.githubusercontent.com/dbaassists/YouTube/main/ArquivoDados/Eleicao/votacao_secao_2022_RJ_parte_'\n",
    "extensao = 'csv'\n",
    "\n",
    "dfSpark = importa_arquivo_github(arquivo, extensao)"
   ]
  },
  {
   "cell_type": "code",
   "execution_count": 0,
   "metadata": {
    "application/vnd.databricks.v1+cell": {
     "cellMetadata": {
      "byteLimit": 2048000,
      "rowLimit": 10000
     },
     "inputWidgets": {},
     "nuid": "f1487544-82e3-49e8-9dc9-26cc4f12f536",
     "showTitle": true,
     "title": "01.1 - Visualizando Total Registros Importados"
    }
   },
   "outputs": [],
   "source": [
    "spark.sql(\"SELECT count(1) FROM {df}\", df=dfSpark).show()"
   ]
  },
  {
   "cell_type": "code",
   "execution_count": 0,
   "metadata": {
    "application/vnd.databricks.v1+cell": {
     "cellMetadata": {
      "byteLimit": 2048000,
      "rowLimit": 10000
     },
     "inputWidgets": {},
     "nuid": "cafb56f1-d17e-4a11-8a37-3f3cff909ef4",
     "showTitle": true,
     "title": "02 - Explorando a Documentação do Método orderBy"
    }
   },
   "outputs": [],
   "source": [
    "help(dfSpark.sort)"
   ]
  },
  {
   "cell_type": "code",
   "execution_count": 0,
   "metadata": {
    "application/vnd.databricks.v1+cell": {
     "cellMetadata": {
      "byteLimit": 2048000,
      "rowLimit": 10000
     },
     "inputWidgets": {},
     "nuid": "b79545eb-84b6-437f-95e6-4ad4bf2512d2",
     "showTitle": true,
     "title": "03 - Criação de DataFrame para Exemplo"
    }
   },
   "outputs": [],
   "source": [
    "\n",
    "#display(dfSpark.select(\"CD_CARGO\",\"DS_CARGO\").distinct())\n",
    "\n",
    "dfSparkCargos = dfSpark.groupBy(\"CD_CARGO\",\"DS_CARGO\",\"NM_MUNICIPIO\").agg(sum(\"QT_VOTOS\").alias(\"TOTAL_VOTOS\"))"
   ]
  },
  {
   "cell_type": "code",
   "execution_count": 0,
   "metadata": {
    "application/vnd.databricks.v1+cell": {
     "cellMetadata": {
      "byteLimit": 2048000,
      "rowLimit": 10000
     },
     "inputWidgets": {},
     "nuid": "ea71fddf-a55c-4db6-936a-30a444e76533",
     "showTitle": true,
     "title": "04 - Visualizando os Dados do DataFrame"
    }
   },
   "outputs": [],
   "source": [
    "dfSparkCargos.select(\"*\").show(truncate=False)"
   ]
  },
  {
   "cell_type": "code",
   "execution_count": 0,
   "metadata": {
    "application/vnd.databricks.v1+cell": {
     "cellMetadata": {
      "byteLimit": 2048000,
      "rowLimit": 10000
     },
     "inputWidgets": {},
     "nuid": "9f70c6ba-0f87-4248-ad78-f55a1b7e3eb5",
     "showTitle": true,
     "title": "05 - Ordenação Default do DataFrame"
    }
   },
   "outputs": [],
   "source": [
    "dfSparkCargos.orderBy('CD_CARGO').show(truncate=False)"
   ]
  },
  {
   "cell_type": "code",
   "execution_count": 0,
   "metadata": {
    "application/vnd.databricks.v1+cell": {
     "cellMetadata": {
      "byteLimit": 2048000,
      "rowLimit": 10000
     },
     "inputWidgets": {},
     "nuid": "6455c419-60d1-4564-8719-19b3fa841e9a",
     "showTitle": false,
     "title": ""
    }
   },
   "outputs": [],
   "source": [
    "dfSparkCargos.sort('CD_CARGO').show(truncate=False)"
   ]
  },
  {
   "cell_type": "code",
   "execution_count": 0,
   "metadata": {
    "application/vnd.databricks.v1+cell": {
     "cellMetadata": {
      "byteLimit": 2048000,
      "rowLimit": 10000
     },
     "inputWidgets": {},
     "nuid": "d8d629e0-9ab9-47d6-a9ef-e6dea1f033ed",
     "showTitle": true,
     "title": "06 - Forçando um Tipo de Ordenação - Asc"
    }
   },
   "outputs": [],
   "source": [
    "dfSparkCargos.orderBy(dfSparkCargos.CD_CARGO.asc()).show(truncate=False)"
   ]
  },
  {
   "cell_type": "code",
   "execution_count": 0,
   "metadata": {
    "application/vnd.databricks.v1+cell": {
     "cellMetadata": {
      "byteLimit": 2048000,
      "rowLimit": 10000
     },
     "inputWidgets": {},
     "nuid": "7d2bb097-3d58-46ca-8dbc-2aa3d2d28d1c",
     "showTitle": false,
     "title": ""
    }
   },
   "outputs": [],
   "source": [
    "dfSparkCargos.orderBy('CD_CARGO').show(truncate=False)"
   ]
  },
  {
   "cell_type": "code",
   "execution_count": 0,
   "metadata": {
    "application/vnd.databricks.v1+cell": {
     "cellMetadata": {
      "byteLimit": 2048000,
      "rowLimit": 10000
     },
     "inputWidgets": {},
     "nuid": "29a0c558-3b99-45ec-a4e5-0763364ecdb8",
     "showTitle": false,
     "title": ""
    }
   },
   "outputs": [],
   "source": [
    "dfSparkCargos.sort(asc('CD_CARGO')).show(truncate=False)\n"
   ]
  },
  {
   "cell_type": "code",
   "execution_count": 0,
   "metadata": {
    "application/vnd.databricks.v1+cell": {
     "cellMetadata": {
      "byteLimit": 2048000,
      "rowLimit": 10000
     },
     "inputWidgets": {},
     "nuid": "e4e1f23e-c93f-4721-8762-ef911cf39f96",
     "showTitle": false,
     "title": ""
    }
   },
   "outputs": [],
   "source": [
    "\n",
    "dfSparkCargos.sort('CD_CARGO').show(truncate=False)\n"
   ]
  },
  {
   "cell_type": "code",
   "execution_count": 0,
   "metadata": {
    "application/vnd.databricks.v1+cell": {
     "cellMetadata": {
      "byteLimit": 2048000,
      "rowLimit": 10000
     },
     "inputWidgets": {},
     "nuid": "80c79dac-fbd0-4e1c-ab15-cd32f5531a70",
     "showTitle": true,
     "title": "07 - Forçando um Tipo de Ordenação - Desc"
    }
   },
   "outputs": [],
   "source": [
    "dfSparkCargos.orderBy(dfSparkCargos.CD_CARGO.desc()).show()"
   ]
  },
  {
   "cell_type": "code",
   "execution_count": 0,
   "metadata": {
    "application/vnd.databricks.v1+cell": {
     "cellMetadata": {
      "byteLimit": 2048000,
      "rowLimit": 10000
     },
     "inputWidgets": {},
     "nuid": "77621fd0-52d5-47b7-8c1a-3a2566f1f53a",
     "showTitle": false,
     "title": ""
    }
   },
   "outputs": [],
   "source": [
    "dfSparkCargos.orderBy(desc('CD_CARGO')).show()"
   ]
  },
  {
   "cell_type": "code",
   "execution_count": 0,
   "metadata": {
    "application/vnd.databricks.v1+cell": {
     "cellMetadata": {
      "byteLimit": 2048000,
      "rowLimit": 10000
     },
     "inputWidgets": {},
     "nuid": "fb8626aa-73a5-44da-8a7c-c5f558564a15",
     "showTitle": false,
     "title": ""
    }
   },
   "outputs": [],
   "source": [
    "dfSparkCargos.sort(desc('CD_CARGO')).show(truncate=False)"
   ]
  },
  {
   "cell_type": "code",
   "execution_count": 0,
   "metadata": {
    "application/vnd.databricks.v1+cell": {
     "cellMetadata": {
      "byteLimit": 2048000,
      "rowLimit": 10000
     },
     "inputWidgets": {},
     "nuid": "094eddaa-874f-4293-90b3-7e828475924c",
     "showTitle": true,
     "title": "08 - Ordenando Por Múltiplas Colunas"
    }
   },
   "outputs": [],
   "source": [
    "dfSparkCargos.orderBy([\"DS_CARGO\",\"TOTAL_VOTOS\"], ascending=[True, False]).show(truncate=False)"
   ]
  }
 ],
 "metadata": {
  "application/vnd.databricks.v1+notebook": {
   "dashboards": [],
   "language": "python",
   "notebookMetadata": {
    "pythonIndentUnit": 4
   },
   "notebookName": "orderBy_sort",
   "widgets": {}
  }
 },
 "nbformat": 4,
 "nbformat_minor": 0
}
