{
 "cells": [
  {
   "cell_type": "markdown",
   "metadata": {
    "application/vnd.databricks.v1+cell": {
     "cellMetadata": {},
     "inputWidgets": {},
     "nuid": "fa30b5d9-168d-43e2-bb73-22fd8bfaaf72",
     "showTitle": false,
     "title": ""
    }
   },
   "source": [
    "|Sequência|Detalhamento|\n",
    "|---|---|\n",
    "|01|Objetivo: Notebook Central com Todas as Bibliotecas|\n",
    "|02|Data Criação: 25/09/2023|\n",
    "|03|Desenvolvida por: Gabriel Quintella|\n"
   ]
  },
  {
   "cell_type": "code",
   "execution_count": 0,
   "metadata": {
    "application/vnd.databricks.v1+cell": {
     "cellMetadata": {
      "byteLimit": 2048000,
      "rowLimit": 10000
     },
     "inputWidgets": {},
     "nuid": "c9698d08-b436-4d6d-bc4d-bbdda24aaa42",
     "showTitle": true,
     "title": "01 - Importação da Bibliotecas"
    }
   },
   "outputs": [],
   "source": [
    "from faker import Faker\n",
    "from datetime import datetime\n",
    "import pandas as pd\n",
    "from pandas import DataFrame\n",
    "import os\n",
    "import time"
   ]
  },
  {
   "cell_type": "code",
   "execution_count": 0,
   "metadata": {
    "application/vnd.databricks.v1+cell": {
     "cellMetadata": {},
     "inputWidgets": {},
     "nuid": "741c6895-8d30-4389-8abc-35a2aee13550",
     "showTitle": true,
     "title": "02 - Função Para Gerar Dados Fake"
    }
   },
   "outputs": [],
   "source": [
    "def geracao_dados_fake(qtd_rows: int = 100, locale: str = \"pt_BR\") -> DataFrame:\n",
    "\n",
    "    data_atual = datetime.now()\n",
    "    local_faker = Faker(locale)\n",
    "    list_result = []\n",
    "    for _ in range(qtd_rows):\n",
    "        data_nascimento = local_faker.date()\n",
    "        dict_result = {\n",
    "            \"Nome\": local_faker.name(),\n",
    "            \"NomOcupacao\": local_faker.job(),\n",
    "            \"NomCidade\": local_faker.country(),\n",
    "            \"NumTelefone\": local_faker.phone_number(),\n",
    "            \"NomEmail\": local_faker.ascii_email(),\n",
    "            \"DataNascimento\": str(data_nascimento),\n",
    "            'NumIdade': (data_atual.date() - datetime.strptime(data_nascimento, \"%Y-%m-%d\").date()).days //365\n",
    "        }\n",
    "        list_result.append(dict_result)\n",
    "\n",
    "    return pd.DataFrame(list_result)\n"
   ]
  },
  {
   "cell_type": "code",
   "execution_count": 0,
   "metadata": {
    "application/vnd.databricks.v1+cell": {
     "cellMetadata": {
      "byteLimit": 2048000,
      "rowLimit": 10000
     },
     "inputWidgets": {},
     "nuid": "c1a3a9e5-10d3-4f9c-b130-4cc37f06a2a8",
     "showTitle": true,
     "title": "03 - Função Para Criar Diretório"
    }
   },
   "outputs": [],
   "source": [
    "def cria_diretorio(pathArquivo):\n",
    "    try:\n",
    "        \n",
    "        # Tente listar os itens no diretório\n",
    "        itens = dbutils.fs.ls(pathArquivo)\n",
    "        print(fr\"Quintellão, o diretório {pathArquivo} já existe!\")\n",
    "        dbutils.fs.rm(pathArquivo , recurse=True)\n",
    "        dbutils.fs.mkdirs(pathArquivo)\n",
    "        \n",
    "    except Exception as e:\n",
    "\n",
    "        # Se ocorrer um erro, o diretório não existe\n",
    "        print(fr\"O diretório {pathArquivo} não existe! Quintellão, vou solicitar a criação!\")\n",
    "        time.sleep(5)\n",
    "        dbutils.fs.mkdirs(pathArquivo)\n",
    "        print(fr\"Muito bem! O diretório {pathArquivo} foi criado com sucesso!\")"
   ]
  }
 ],
 "metadata": {
  "application/vnd.databricks.v1+notebook": {
   "dashboards": [],
   "language": "python",
   "notebookMetadata": {
    "pythonIndentUnit": 4
   },
   "notebookName": "bibliotecas",
   "widgets": {}
  }
 },
 "nbformat": 4,
 "nbformat_minor": 0
}
