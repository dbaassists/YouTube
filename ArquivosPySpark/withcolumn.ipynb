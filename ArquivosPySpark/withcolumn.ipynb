{
 "cells": [
  {
   "cell_type": "code",
   "execution_count": 0,
   "metadata": {
    "application/vnd.databricks.v1+cell": {
     "cellMetadata": {
      "byteLimit": 2048000,
      "rowLimit": 10000
     },
     "inputWidgets": {},
     "nuid": "81a599e2-9802-4cee-853e-feddbe8af6f5",
     "showTitle": false,
     "title": ""
    }
   },
   "outputs": [],
   "source": [
    "from pyspark.sql.types import *\n",
    "from pyspark.sql.functions import *"
   ]
  },
  {
   "cell_type": "code",
   "execution_count": 0,
   "metadata": {
    "application/vnd.databricks.v1+cell": {
     "cellMetadata": {
      "byteLimit": 2048000,
      "rowLimit": 10000
     },
     "inputWidgets": {},
     "nuid": "94824f31-0144-4b3c-9894-d0d0714b8cde",
     "showTitle": false,
     "title": ""
    }
   },
   "outputs": [],
   "source": [
    "dados = [\n",
    "('Fred', 39, '450000')\n",
    ",('Romário',57, '300000')\n",
    ",('Roberto Carlos', 50, '320000')\n",
    ",('Ronaldo Fenômeno', 47, '890000')\n",
    "]\n",
    "\n",
    "schema = ['jogador','idade','salario']\n",
    "\n",
    "df = spark.createDataFrame(data=dados, schema=schema)\n",
    "\n",
    "df.printSchema()\n",
    "\n",
    "df.show()\n",
    "\n",
    "# Modo 01 de Conversão de DataType\n",
    "#df = df.withColumn('salario', df.salario.cast('float'))\n",
    "\n",
    "# Modo 02 de Conversão de DataType\n",
    "df = df.withColumn('salario', col('salario').cast('float'))\n",
    "\n",
    "df = df.withColumn('salario', df.salario * 1.2)\n",
    "\n",
    "df = df.withColumn('status', lit('Aposentado'))\n",
    "\n",
    "df.printSchema()\n",
    "\n",
    "df.show()"
   ]
  }
 ],
 "metadata": {
  "application/vnd.databricks.v1+notebook": {
   "dashboards": [],
   "language": "python",
   "notebookMetadata": {
    "pythonIndentUnit": 4
   },
   "notebookName": "withcolumn",
   "widgets": {}
  }
 },
 "nbformat": 4,
 "nbformat_minor": 0
}
