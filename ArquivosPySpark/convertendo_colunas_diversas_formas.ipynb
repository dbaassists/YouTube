{
 "cells": [
  {
   "cell_type": "code",
   "execution_count": 0,
   "metadata": {
    "application/vnd.databricks.v1+cell": {
     "cellMetadata": {
      "byteLimit": 2048000,
      "rowLimit": 10000
     },
     "inputWidgets": {},
     "nuid": "1651fd1b-2a41-456d-85a9-a5b04b527bda",
     "showTitle": false,
     "title": ""
    }
   },
   "outputs": [],
   "source": [
    "from pyspark.sql.functions import *"
   ]
  },
  {
   "cell_type": "code",
   "execution_count": 0,
   "metadata": {
    "application/vnd.databricks.v1+cell": {
     "cellMetadata": {
      "byteLimit": 2048000,
      "rowLimit": 10000
     },
     "inputWidgets": {},
     "nuid": "af541a5a-b444-4642-88d9-4c56d021f428",
     "showTitle": false,
     "title": ""
    }
   },
   "outputs": [
    {
     "output_type": "stream",
     "name": "stdout",
     "output_type": "stream",
     "text": [
      "+----------+--------------------+\n|     Clube|              Titulo|\n+----------+--------------------+\n|Fluminense|  Campeonato Carioca|\n|Fluminense|      Taça Guanabara|\n|Fluminense|Campeonato Brasil...|\n+----------+--------------------+\n\n"
     ]
    }
   ],
   "source": [
    "dados = [('Fluminense', 'Campeonato Carioca')\n",
    ",('Fluminense', 'Taça Guanabara')\n",
    ",('Fluminense', 'Campeonato Brasileiro')]\n",
    "\n",
    "schema = ('Clube', 'Titulo')\n",
    "\n",
    "df = spark.createDataFrame(dados, schema =schema)\n",
    "\n",
    "df.show()"
   ]
  },
  {
   "cell_type": "code",
   "execution_count": 0,
   "metadata": {
    "application/vnd.databricks.v1+cell": {
     "cellMetadata": {
      "byteLimit": 2048000,
      "rowLimit": 10000
     },
     "inputWidgets": {},
     "nuid": "cad01789-556b-44f2-91d2-61645e240428",
     "showTitle": false,
     "title": ""
    }
   },
   "outputs": [
    {
     "output_type": "stream",
     "name": "stdout",
     "output_type": "stream",
     "text": [
      "+----------+--------------------+\n|     Clube|              Titulo|\n+----------+--------------------+\n|Fluminense|  Campeonato Carioca|\n|Fluminense|      Taça Guanabara|\n|Fluminense|Campeonato Brasil...|\n+----------+--------------------+\n\n"
     ]
    }
   ],
   "source": [
    "df.show()"
   ]
  },
  {
   "cell_type": "code",
   "execution_count": 0,
   "metadata": {
    "application/vnd.databricks.v1+cell": {
     "cellMetadata": {
      "byteLimit": 2048000,
      "rowLimit": 10000
     },
     "inputWidgets": {},
     "nuid": "ef27c59b-f18e-474a-880d-1664f269cf3b",
     "showTitle": true,
     "title": "Modo 1 - Colocar as Letras de Uma Coluna em Maiusculo Usando (WithColumn + UPPER)"
    }
   },
   "outputs": [
    {
     "output_type": "stream",
     "name": "stdout",
     "output_type": "stream",
     "text": [
      "+----------+---------------------+\n|Clube     |Titulo               |\n+----------+---------------------+\n|FLUMINENSE|Campeonato Carioca   |\n|FLUMINENSE|Taça Guanabara       |\n|FLUMINENSE|Campeonato Brasileiro|\n+----------+---------------------+\n\n"
     ]
    }
   ],
   "source": [
    "\n",
    "df.withColumn('Clube' , upper(df.Clube)).show(truncate=False)\n"
   ]
  },
  {
   "cell_type": "code",
   "execution_count": 0,
   "metadata": {
    "application/vnd.databricks.v1+cell": {
     "cellMetadata": {
      "byteLimit": 2048000,
      "rowLimit": 10000
     },
     "inputWidgets": {},
     "nuid": "f42615c5-3457-4458-8b2c-e441f947ee46",
     "showTitle": true,
     "title": "Modo 2- Colocar as Letras de Uma Coluna  em Maiusculo Usando (Select + UPPER + Alias)"
    }
   },
   "outputs": [
    {
     "output_type": "stream",
     "name": "stdout",
     "output_type": "stream",
     "text": [
      "+----------+---------------------+\n|Clube     |Titulo               |\n+----------+---------------------+\n|FLUMINENSE|Campeonato Carioca   |\n|FLUMINENSE|Taça Guanabara       |\n|FLUMINENSE|Campeonato Brasileiro|\n+----------+---------------------+\n\n"
     ]
    }
   ],
   "source": [
    "df.select(upper('Clube').alias('Clube') , 'Titulo' ).show(truncate=False)"
   ]
  },
  {
   "cell_type": "code",
   "execution_count": 0,
   "metadata": {
    "application/vnd.databricks.v1+cell": {
     "cellMetadata": {
      "byteLimit": 2048000,
      "rowLimit": 10000
     },
     "inputWidgets": {},
     "nuid": "10e19e89-df04-4159-9b01-b8d6fbd22c01",
     "showTitle": true,
     "title": "Modo 3- Colocar as Letras de Uma Coluna em Maiusculo Usando SQL"
    }
   },
   "outputs": [
    {
     "output_type": "stream",
     "name": "stdout",
     "output_type": "stream",
     "text": [
      "Out[27]: pyspark.sql.dataframe.DataFrame"
     ]
    }
   ],
   "source": [
    "\n",
    "df.createOrReplaceTempView('fluminense')\n",
    "\n",
    "df3 = spark.sql(\"\"\"\n",
    "          SELECT UPPER(Clube) AS Clube\n",
    "          , Titulo \n",
    "            FROM fluminense\n",
    "          \"\"\")\n",
    "\n",
    "type(df3)"
   ]
  },
  {
   "cell_type": "code",
   "execution_count": 0,
   "metadata": {
    "application/vnd.databricks.v1+cell": {
     "cellMetadata": {
      "byteLimit": 2048000,
      "rowLimit": 10000
     },
     "inputWidgets": {},
     "nuid": "97f624f8-3711-4479-b41e-cee0ab17d503",
     "showTitle": false,
     "title": ""
    }
   },
   "outputs": [
    {
     "output_type": "stream",
     "name": "stdout",
     "output_type": "stream",
     "text": [
      "+----------+---------------------+\n|Clube     |Titulo               |\n+----------+---------------------+\n|FLUMINENSE|Campeonato Carioca   |\n|FLUMINENSE|Taça Guanabara       |\n|FLUMINENSE|Campeonato Brasileiro|\n+----------+---------------------+\n\n"
     ]
    }
   ],
   "source": [
    "spark.sql(\"\"\"\n",
    "          SELECT UPPER(Clube) AS Clube\n",
    "          , Titulo  \n",
    "            FROM {df}\n",
    "          \"\"\",df=df).show(truncate=False)"
   ]
  },
  {
   "cell_type": "code",
   "execution_count": 0,
   "metadata": {
    "application/vnd.databricks.v1+cell": {
     "cellMetadata": {
      "byteLimit": 2048000,
      "implicitDf": true,
      "rowLimit": 10000
     },
     "inputWidgets": {},
     "nuid": "d3d5cd3b-3355-4dc9-9b13-53a1b0f4e1df",
     "showTitle": false,
     "title": ""
    }
   },
   "outputs": [
    {
     "output_type": "display_data",
     "data": {
      "text/html": [
       "<style scoped>\n",
       "  .table-result-container {\n",
       "    max-height: 300px;\n",
       "    overflow: auto;\n",
       "  }\n",
       "  table, th, td {\n",
       "    border: 1px solid black;\n",
       "    border-collapse: collapse;\n",
       "  }\n",
       "  th, td {\n",
       "    padding: 5px;\n",
       "  }\n",
       "  th {\n",
       "    text-align: left;\n",
       "  }\n",
       "</style><div class='table-result-container'><table class='table-result'><thead style='background-color: white'><tr><th>Clube</th><th>Titulo</th></tr></thead><tbody><tr><td>Fluminense</td><td>Campeonato Carioca</td></tr><tr><td>Fluminense</td><td>Taça Guanabara</td></tr><tr><td>Fluminense</td><td>Campeonato Brasileiro</td></tr></tbody></table></div>"
      ]
     },
     "metadata": {
      "application/vnd.databricks.v1+output": {
       "addedWidgets": {},
       "aggData": [],
       "aggError": "",
       "aggOverflow": false,
       "aggSchema": [],
       "aggSeriesLimitReached": false,
       "aggType": "",
       "arguments": {},
       "columnCustomDisplayInfos": {},
       "data": [
        [
         "Fluminense",
         "Campeonato Carioca"
        ],
        [
         "Fluminense",
         "Taça Guanabara"
        ],
        [
         "Fluminense",
         "Campeonato Brasileiro"
        ]
       ],
       "datasetInfos": [],
       "dbfsResultPath": null,
       "isJsonSchema": true,
       "metadata": {},
       "overflow": false,
       "plotOptions": {
        "customPlotOptions": {},
        "displayType": "table",
        "pivotAggregation": null,
        "pivotColumns": null,
        "xColumns": null,
        "yColumns": null
       },
       "removedWidgets": [],
       "schema": [
        {
         "metadata": "{}",
         "name": "Clube",
         "type": "\"string\""
        },
        {
         "metadata": "{}",
         "name": "Titulo",
         "type": "\"string\""
        }
       ],
       "type": "table"
      }
     },
     "output_type": "display_data"
    }
   ],
   "source": [
    "%sql\n",
    "SELECT UPPER(Clube) AS Clube\n",
    "          , Titulo \n",
    "FROM fluminense\n"
   ]
  }
 ],
 "metadata": {
  "application/vnd.databricks.v1+notebook": {
   "dashboards": [],
   "language": "python",
   "notebookMetadata": {
    "mostRecentlyExecutedCommandWithImplicitDF": {
     "commandId": 3388473371086312,
     "dataframes": [
      "_sqldf"
     ]
    },
    "pythonIndentUnit": 4
   },
   "notebookName": "convertendo_colunas_diversas_formas",
   "widgets": {}
  }
 },
 "nbformat": 4,
 "nbformat_minor": 0
}
